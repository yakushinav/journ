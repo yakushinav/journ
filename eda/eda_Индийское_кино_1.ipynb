{
 "cells": [
  {
   "cell_type": "markdown",
   "id": "1db09ed1",
   "metadata": {},
   "source": [
    "# Разведочный анализ данных для набора данных: Индийское_кино"
   ]
  },
  {
   "cell_type": "markdown",
   "id": "a45654fc",
   "metadata": {},
   "source": [
    "## Задание\n",
    "\n",
    "Вам предлагается выполнить разведочный анализ данных и описать полученные результаты\n",
    "\n",
    "Описание набора данных: https://www.kaggle.com/datasets/nareshbhat/indian-moviesimdb\n",
    "\n",
    "Ссылка на набор данных для использования в блокноте: https://raw.githubusercontent.com/yakushinav/journ/refs/heads/main/datasets/indianMovies.csv"
   ]
  },
  {
   "cell_type": "markdown",
   "id": "8b5cd152",
   "metadata": {},
   "source": [
    "#### 1. Подключение библиотек"
   ]
  },
  {
   "cell_type": "code",
   "execution_count": null,
   "id": "d3362bb1",
   "metadata": {},
   "outputs": [],
   "source": [
    "# Ваш код здесь"
   ]
  },
  {
   "cell_type": "markdown",
   "id": "e484bd90",
   "metadata": {},
   "source": [
    "#### 2. Чтение набора данных"
   ]
  },
  {
   "cell_type": "code",
   "execution_count": null,
   "id": "bfa2de60",
   "metadata": {},
   "outputs": [],
   "source": [
    "# Ваш код здесь"
   ]
  },
  {
   "cell_type": "markdown",
   "id": "5d75c3e1",
   "metadata": {},
   "source": [
    "#### 3. Первые 5 строк набора данных"
   ]
  },
  {
   "cell_type": "code",
   "execution_count": null,
   "id": "6d189178",
   "metadata": {},
   "outputs": [],
   "source": [
    "# Ваш код здесь"
   ]
  },
  {
   "cell_type": "markdown",
   "id": "382a0859",
   "metadata": {},
   "source": [
    "#### 4. Последние 7 строк набора данных"
   ]
  },
  {
   "cell_type": "code",
   "execution_count": null,
   "id": "7b2f90d2",
   "metadata": {},
   "outputs": [],
   "source": [
    "# Ваш код здесь"
   ]
  },
  {
   "cell_type": "markdown",
   "id": "011042ee",
   "metadata": {},
   "source": [
    "#### 5. Поля набора данных"
   ]
  },
  {
   "cell_type": "code",
   "execution_count": null,
   "id": "81abf88e",
   "metadata": {},
   "outputs": [],
   "source": [
    "# Ваш код здесь"
   ]
  },
  {
   "cell_type": "markdown",
   "id": "fc2eebbb",
   "metadata": {},
   "source": [
    "#### 6. Размер набора данных (количество полей и строк)"
   ]
  },
  {
   "cell_type": "code",
   "execution_count": null,
   "id": "2b8ee75a",
   "metadata": {},
   "outputs": [],
   "source": [
    "# Ваш код здесь"
   ]
  },
  {
   "cell_type": "markdown",
   "id": "97d4a5f0",
   "metadata": {},
   "source": [
    "#### 7. Опишите поля набора данных в формате: название поля, тип данных, назначение поля"
   ]
  },
  {
   "cell_type": "code",
   "execution_count": null,
   "id": "9e6a32e6",
   "metadata": {},
   "outputs": [],
   "source": [
    "# Ваш код здесь"
   ]
  },
  {
   "cell_type": "markdown",
   "id": "51e263e3",
   "metadata": {},
   "source": [
    "#### 8. Информация о наборе данных"
   ]
  },
  {
   "cell_type": "code",
   "execution_count": null,
   "id": "9aadb5ea",
   "metadata": {},
   "outputs": [],
   "source": [
    "# Ваш код здесь"
   ]
  },
  {
   "cell_type": "markdown",
   "id": "517b6180",
   "metadata": {},
   "source": [
    "#### 9. Описательная статистика для числовых полей"
   ]
  },
  {
   "cell_type": "code",
   "execution_count": null,
   "id": "db4cd18a",
   "metadata": {},
   "outputs": [],
   "source": [
    "# Ваш код здесь"
   ]
  },
  {
   "cell_type": "markdown",
   "id": "5ace6434",
   "metadata": {},
   "source": [
    "#### 10. Описательная статистика для категориальных полей"
   ]
  },
  {
   "cell_type": "code",
   "execution_count": null,
   "id": "9ba300a2",
   "metadata": {},
   "outputs": [],
   "source": [
    "# Ваш код здесь"
   ]
  },
  {
   "cell_type": "markdown",
   "id": "6bf1fa52",
   "metadata": {},
   "source": [
    "#### 11. Проверка наличия пропусков в данных"
   ]
  },
  {
   "cell_type": "code",
   "execution_count": null,
   "id": "4f7f11bb",
   "metadata": {},
   "outputs": [],
   "source": [
    "# Ваш код здесь"
   ]
  },
  {
   "cell_type": "markdown",
   "id": "95504095",
   "metadata": {},
   "source": [
    "#### 12. Если вы обнаружили пропуски в данных, то заполните их на основе среднего или медианы или моды"
   ]
  },
  {
   "cell_type": "code",
   "execution_count": null,
   "id": "71e4fbf3",
   "metadata": {},
   "outputs": [],
   "source": [
    "# Ваш код здесь"
   ]
  },
  {
   "cell_type": "markdown",
   "id": "b9c10a9c",
   "metadata": {},
   "source": [
    "#### 13. Фильтрация. Выберите все строки таблицы, для которых значение поля Year больше 10101967"
   ]
  },
  {
   "cell_type": "code",
   "execution_count": null,
   "id": "f8e1eb63",
   "metadata": {},
   "outputs": [],
   "source": [
    "# Ваш код здесь"
   ]
  },
  {
   "cell_type": "markdown",
   "id": "355f538c",
   "metadata": {},
   "source": [
    "#### 14. Фильтрация. Выберите все строки таблицы, для которых значение поля Language равно hindi"
   ]
  },
  {
   "cell_type": "code",
   "execution_count": null,
   "id": "21c41e00",
   "metadata": {},
   "outputs": [],
   "source": [
    "# Ваш код здесь"
   ]
  },
  {
   "cell_type": "markdown",
   "id": "5e6a446e",
   "metadata": {},
   "source": [
    "#### 15. Фильтрация. Выберите все строки таблицы, для которых значение поля Genre равно Drama             и значение поля Language равно hindi"
   ]
  },
  {
   "cell_type": "code",
   "execution_count": null,
   "id": "05db7a73",
   "metadata": {},
   "outputs": [],
   "source": [
    "# Ваш код здесь"
   ]
  },
  {
   "cell_type": "markdown",
   "id": "aa7bf094",
   "metadata": {},
   "source": [
    "#### 16. Получите все уникальные значения поля  Language и подсчитайте частоту появления каждого их них"
   ]
  },
  {
   "cell_type": "code",
   "execution_count": null,
   "id": "3ab72154",
   "metadata": {},
   "outputs": [],
   "source": [
    "# Ваш код здесь"
   ]
  },
  {
   "cell_type": "markdown",
   "id": "680dc5b8",
   "metadata": {},
   "source": [
    "#### 17. Выполните группировку набора данных одновременно по полям Language и Genre. Добавьте подсчет минимума, максимума и медианы по каждой группе."
   ]
  },
  {
   "cell_type": "code",
   "execution_count": null,
   "id": "ac5d4923",
   "metadata": {},
   "outputs": [],
   "source": [
    "# Ваш код здесь"
   ]
  },
  {
   "cell_type": "markdown",
   "id": "2c072567",
   "metadata": {},
   "source": [
    "#### 18. Постройте поле корреляции (тепловая карта) для числовых полей"
   ]
  },
  {
   "cell_type": "code",
   "execution_count": null,
   "id": "1695d5ca",
   "metadata": {},
   "outputs": [],
   "source": [
    "# Ваш код здесь"
   ]
  },
  {
   "cell_type": "markdown",
   "id": "20de51bf",
   "metadata": {},
   "source": [
    "#### 19. Постройте гистограмму по полю Votes"
   ]
  },
  {
   "cell_type": "code",
   "execution_count": null,
   "id": "2ff24a0e",
   "metadata": {},
   "outputs": [],
   "source": [
    "# Ваш код здесь"
   ]
  },
  {
   "cell_type": "markdown",
   "id": "c1ebace8",
   "metadata": {},
   "source": [
    "#### 20. Постройте точечную диаграмму для полей Timing(min) и Votes"
   ]
  },
  {
   "cell_type": "code",
   "execution_count": null,
   "id": "88d9d99b",
   "metadata": {},
   "outputs": [],
   "source": [
    "# Ваш код здесь"
   ]
  },
  {
   "cell_type": "markdown",
   "id": "fd71e823",
   "metadata": {},
   "source": [
    "#### 21. Постройте диаграмму ящик с усами поля Timing(min)"
   ]
  },
  {
   "cell_type": "code",
   "execution_count": null,
   "id": "dc031446",
   "metadata": {},
   "outputs": [],
   "source": [
    "# Ваш код здесь. Также напишите о наличии выбросов в этом поле"
   ]
  },
  {
   "cell_type": "markdown",
   "id": "81fc7367",
   "metadata": {},
   "source": [
    "#### 22. Постройте матрицу диаграммы рассеяния"
   ]
  },
  {
   "cell_type": "code",
   "execution_count": null,
   "id": "46db65ea",
   "metadata": {},
   "outputs": [],
   "source": [
    "# Ваш код здесь"
   ]
  },
  {
   "cell_type": "markdown",
   "id": "1ae09658",
   "metadata": {},
   "source": [
    "#### 23. Преобразуйте все категориальные поля в числовые с помощью LabelEncoder"
   ]
  },
  {
   "cell_type": "code",
   "execution_count": null,
   "id": "d7bd836e",
   "metadata": {},
   "outputs": [],
   "source": [
    "# Ваш код здесь"
   ]
  },
  {
   "cell_type": "markdown",
   "id": "04b17574",
   "metadata": {},
   "source": [
    "#### 24. Сделайте вывод о проделанной работе и особенностях набора данных"
   ]
  },
  {
   "cell_type": "code",
   "execution_count": null,
   "id": "0b3c3baa",
   "metadata": {},
   "outputs": [],
   "source": [
    "# Ваш ответ здесь"
   ]
  }
 ],
 "metadata": {},
 "nbformat": 4,
 "nbformat_minor": 5
}
