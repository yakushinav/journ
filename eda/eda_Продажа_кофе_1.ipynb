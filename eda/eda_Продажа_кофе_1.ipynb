{
 "cells": [
  {
   "cell_type": "markdown",
   "id": "fd31d0c4",
   "metadata": {},
   "source": [
    "# Разведочный анализ данных для набора данных: Продажа_кофе"
   ]
  },
  {
   "cell_type": "markdown",
   "id": "f84e8945",
   "metadata": {},
   "source": [
    "## Задание\n",
    "\n",
    "Вам предлагается выполнить разведочный анализ данных и описать полученные результаты\n",
    "\n",
    "Описание набора данных: https://www.kaggle.com/datasets/ihelon/coffee-sales\n",
    "\n",
    "Ссылка на набор данных для использования в блокноте: https://raw.githubusercontent.com/yakushinav/journ/refs/heads/main/datasets/index.csv"
   ]
  },
  {
   "cell_type": "markdown",
   "id": "80286818",
   "metadata": {},
   "source": [
    "#### 1. Подключение библиотек"
   ]
  },
  {
   "cell_type": "code",
   "execution_count": null,
   "id": "3746191f",
   "metadata": {},
   "outputs": [],
   "source": [
    "# Ваш код здесь"
   ]
  },
  {
   "cell_type": "markdown",
   "id": "1f4446e5",
   "metadata": {},
   "source": [
    "#### 2. Чтение набора данных"
   ]
  },
  {
   "cell_type": "code",
   "execution_count": null,
   "id": "685e0867",
   "metadata": {},
   "outputs": [],
   "source": [
    "# Ваш код здесь"
   ]
  },
  {
   "cell_type": "markdown",
   "id": "3cf10f67",
   "metadata": {},
   "source": [
    "#### 3. Первые 5 строк набора данных"
   ]
  },
  {
   "cell_type": "code",
   "execution_count": null,
   "id": "e10523da",
   "metadata": {},
   "outputs": [],
   "source": [
    "# Ваш код здесь"
   ]
  },
  {
   "cell_type": "markdown",
   "id": "90759015",
   "metadata": {},
   "source": [
    "#### 4. Последние 7 строк набора данных"
   ]
  },
  {
   "cell_type": "code",
   "execution_count": null,
   "id": "4a4d5810",
   "metadata": {},
   "outputs": [],
   "source": [
    "# Ваш код здесь"
   ]
  },
  {
   "cell_type": "markdown",
   "id": "310749c1",
   "metadata": {},
   "source": [
    "#### 5. Поля набора данных"
   ]
  },
  {
   "cell_type": "code",
   "execution_count": null,
   "id": "27c9c0a1",
   "metadata": {},
   "outputs": [],
   "source": [
    "# Ваш код здесь"
   ]
  },
  {
   "cell_type": "markdown",
   "id": "d49aa039",
   "metadata": {},
   "source": [
    "#### 6. Размер набора данных (количество полей и строк)"
   ]
  },
  {
   "cell_type": "code",
   "execution_count": null,
   "id": "f40fe5a0",
   "metadata": {},
   "outputs": [],
   "source": [
    "# Ваш код здесь"
   ]
  },
  {
   "cell_type": "markdown",
   "id": "dbfdd33f",
   "metadata": {},
   "source": [
    "#### 7. Опишите поля набора данных в формате: название поля, тип данных, назначение поля"
   ]
  },
  {
   "cell_type": "code",
   "execution_count": null,
   "id": "65bef313",
   "metadata": {},
   "outputs": [],
   "source": [
    "# Ваш код здесь"
   ]
  },
  {
   "cell_type": "markdown",
   "id": "b9c016d9",
   "metadata": {},
   "source": [
    "#### 8. Информация о наборе данных"
   ]
  },
  {
   "cell_type": "code",
   "execution_count": null,
   "id": "57311c65",
   "metadata": {},
   "outputs": [],
   "source": [
    "# Ваш код здесь"
   ]
  },
  {
   "cell_type": "markdown",
   "id": "3c9370d9",
   "metadata": {},
   "source": [
    "#### 9. Описательная статистика для числовых полей"
   ]
  },
  {
   "cell_type": "code",
   "execution_count": null,
   "id": "6617450f",
   "metadata": {},
   "outputs": [],
   "source": [
    "# Ваш код здесь"
   ]
  },
  {
   "cell_type": "markdown",
   "id": "54e7af93",
   "metadata": {},
   "source": [
    "#### 10. Описательная статистика для категориальных полей"
   ]
  },
  {
   "cell_type": "code",
   "execution_count": null,
   "id": "240013cd",
   "metadata": {},
   "outputs": [],
   "source": [
    "# Ваш код здесь"
   ]
  },
  {
   "cell_type": "markdown",
   "id": "d193e996",
   "metadata": {},
   "source": [
    "#### 11. Проверка наличия пропусков в данных"
   ]
  },
  {
   "cell_type": "code",
   "execution_count": null,
   "id": "afd7b2df",
   "metadata": {},
   "outputs": [],
   "source": [
    "# Ваш код здесь"
   ]
  },
  {
   "cell_type": "markdown",
   "id": "b8c5bcf4",
   "metadata": {},
   "source": [
    "#### 12. Если вы обнаружили пропуски в данных, то заполните их на основе среднего или медианы или моды"
   ]
  },
  {
   "cell_type": "code",
   "execution_count": null,
   "id": "82157dfb",
   "metadata": {},
   "outputs": [],
   "source": [
    "# Ваш код здесь"
   ]
  },
  {
   "cell_type": "markdown",
   "id": "848c8e14",
   "metadata": {},
   "source": [
    "#### 13. Фильтрация. Выберите все строки таблицы, для которых значение поля money больше 29.0"
   ]
  },
  {
   "cell_type": "code",
   "execution_count": null,
   "id": "41c8ff1e",
   "metadata": {},
   "outputs": [],
   "source": [
    "# Ваш код здесь"
   ]
  },
  {
   "cell_type": "markdown",
   "id": "9b5c6b68",
   "metadata": {},
   "source": [
    "#### 14. Фильтрация. Выберите все строки таблицы, для которых значение поля coffee_name равно Americano with Milk"
   ]
  },
  {
   "cell_type": "code",
   "execution_count": null,
   "id": "ded8e270",
   "metadata": {},
   "outputs": [],
   "source": [
    "# Ваш код здесь"
   ]
  },
  {
   "cell_type": "markdown",
   "id": "9ca8569b",
   "metadata": {},
   "source": [
    "#### 15. Фильтрация. Выберите все строки таблицы, для которых значение поля coffee_name равно Americano with Milk и значение поля date равно 2024-10-11"
   ]
  },
  {
   "cell_type": "code",
   "execution_count": null,
   "id": "b2c4637e",
   "metadata": {},
   "outputs": [],
   "source": [
    "# Ваш код здесь"
   ]
  },
  {
   "cell_type": "markdown",
   "id": "cb990af9",
   "metadata": {},
   "source": [
    "#### 16. Получите все уникальные значения поля  date и подсчитайте частоту появления каждого их них"
   ]
  },
  {
   "cell_type": "code",
   "execution_count": null,
   "id": "168ce840",
   "metadata": {},
   "outputs": [],
   "source": [
    "# Ваш код здесь"
   ]
  },
  {
   "cell_type": "markdown",
   "id": "dc69083f",
   "metadata": {},
   "source": [
    "#### 17. Выполните группировку набора данных одновременно по полям date и coffee_name. Добавьте подсчет минимума, максимума и медианы по каждой группе."
   ]
  },
  {
   "cell_type": "code",
   "execution_count": null,
   "id": "00c20113",
   "metadata": {},
   "outputs": [],
   "source": [
    "# Ваш код здесь"
   ]
  },
  {
   "cell_type": "markdown",
   "id": "3092f3d4",
   "metadata": {},
   "source": [
    "#### 18. Постройте поле корреляции (тепловая карта) для числовых полей"
   ]
  },
  {
   "cell_type": "code",
   "execution_count": null,
   "id": "63e2c0e7",
   "metadata": {},
   "outputs": [],
   "source": [
    "# Ваш код здесь"
   ]
  },
  {
   "cell_type": "markdown",
   "id": "389c256b",
   "metadata": {},
   "source": [
    "#### 19. Постройте гистограмму по полю card"
   ]
  },
  {
   "cell_type": "code",
   "execution_count": null,
   "id": "26ec3d6f",
   "metadata": {},
   "outputs": [],
   "source": [
    "# Ваш код здесь"
   ]
  },
  {
   "cell_type": "markdown",
   "id": "43d2a44a",
   "metadata": {},
   "source": [
    "#### 20. Постройте точечную диаграмму для полей money и card"
   ]
  },
  {
   "cell_type": "code",
   "execution_count": null,
   "id": "04833383",
   "metadata": {},
   "outputs": [],
   "source": [
    "# Ваш код здесь"
   ]
  },
  {
   "cell_type": "markdown",
   "id": "da365bec",
   "metadata": {},
   "source": [
    "#### 21. Постройте диаграмму ящик с усами поля money"
   ]
  },
  {
   "cell_type": "code",
   "execution_count": null,
   "id": "1c941248",
   "metadata": {},
   "outputs": [],
   "source": [
    "# Ваш код здесь. Также напишите о наличии выбросов в этом поле"
   ]
  },
  {
   "cell_type": "markdown",
   "id": "9899041f",
   "metadata": {},
   "source": [
    "#### 22. Постройте матрицу диаграммы рассеяния"
   ]
  },
  {
   "cell_type": "code",
   "execution_count": null,
   "id": "ff788655",
   "metadata": {},
   "outputs": [],
   "source": [
    "# Ваш код здесь"
   ]
  },
  {
   "cell_type": "markdown",
   "id": "67e5cb6e",
   "metadata": {},
   "source": [
    "#### 23. Преобразуйте все категориальные поля в числовые с помощью LabelEncoder"
   ]
  },
  {
   "cell_type": "code",
   "execution_count": null,
   "id": "c91be360",
   "metadata": {},
   "outputs": [],
   "source": [
    "# Ваш код здесь"
   ]
  },
  {
   "cell_type": "markdown",
   "id": "0ac08121",
   "metadata": {},
   "source": [
    "#### 24. Сделайте вывод о проделанной работе и особенностях набора данных"
   ]
  },
  {
   "cell_type": "code",
   "execution_count": null,
   "id": "44418215",
   "metadata": {},
   "outputs": [],
   "source": [
    "# Ваш ответ здесь"
   ]
  }
 ],
 "metadata": {},
 "nbformat": 4,
 "nbformat_minor": 5
}
