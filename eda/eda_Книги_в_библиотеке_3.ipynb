{
 "cells": [
  {
   "cell_type": "markdown",
   "id": "cbad2f4b",
   "metadata": {},
   "source": [
    "# Разведочный анализ данных для набора данных: Книги_в_библиотеке"
   ]
  },
  {
   "cell_type": "markdown",
   "id": "df07a774",
   "metadata": {},
   "source": [
    "## Задание\n",
    "\n",
    "Вам предлагается выполнить разведочный анализ данных и описать полученные результаты\n",
    "\n",
    "Описание набора данных: https://data.mos.ru/opendata/60865?isDynamic=false\n",
    "\n",
    "Ссылка на набор данных для использования в блокноте: https://raw.githubusercontent.com/yakushinav/journ/refs/heads/main/datasets/data-60865-2024-09-04.csv"
   ]
  },
  {
   "cell_type": "markdown",
   "id": "1fddfe5f",
   "metadata": {},
   "source": [
    "#### 1. Подключение библиотек"
   ]
  },
  {
   "cell_type": "code",
   "execution_count": null,
   "id": "cca2192a",
   "metadata": {},
   "outputs": [],
   "source": [
    "# Ваш код здесь"
   ]
  },
  {
   "cell_type": "markdown",
   "id": "465c6764",
   "metadata": {},
   "source": [
    "#### 2. Чтение набора данных"
   ]
  },
  {
   "cell_type": "code",
   "execution_count": null,
   "id": "b01eea81",
   "metadata": {},
   "outputs": [],
   "source": [
    "# Ваш код здесь"
   ]
  },
  {
   "cell_type": "markdown",
   "id": "c6893632",
   "metadata": {},
   "source": [
    "#### 3. Первые 5 строк набора данных"
   ]
  },
  {
   "cell_type": "code",
   "execution_count": null,
   "id": "1e2b4141",
   "metadata": {},
   "outputs": [],
   "source": [
    "# Ваш код здесь"
   ]
  },
  {
   "cell_type": "markdown",
   "id": "a3d36478",
   "metadata": {},
   "source": [
    "#### 4. Последние 7 строк набора данных"
   ]
  },
  {
   "cell_type": "code",
   "execution_count": null,
   "id": "7e1f41cf",
   "metadata": {},
   "outputs": [],
   "source": [
    "# Ваш код здесь"
   ]
  },
  {
   "cell_type": "markdown",
   "id": "108da5b9",
   "metadata": {},
   "source": [
    "#### 5. Поля набора данных"
   ]
  },
  {
   "cell_type": "code",
   "execution_count": null,
   "id": "1f242fa2",
   "metadata": {},
   "outputs": [],
   "source": [
    "# Ваш код здесь"
   ]
  },
  {
   "cell_type": "markdown",
   "id": "bed587be",
   "metadata": {},
   "source": [
    "#### 6. Размер набора данных (количество полей и строк)"
   ]
  },
  {
   "cell_type": "code",
   "execution_count": null,
   "id": "48400dea",
   "metadata": {},
   "outputs": [],
   "source": [
    "# Ваш код здесь"
   ]
  },
  {
   "cell_type": "markdown",
   "id": "5f66adb9",
   "metadata": {},
   "source": [
    "#### 7. Опишите поля набора данных в формате: название поля, тип данных, назначение поля"
   ]
  },
  {
   "cell_type": "code",
   "execution_count": null,
   "id": "eb6f5430",
   "metadata": {},
   "outputs": [],
   "source": [
    "# Ваш код здесь"
   ]
  },
  {
   "cell_type": "markdown",
   "id": "e4560949",
   "metadata": {},
   "source": [
    "#### 8. Информация о наборе данных"
   ]
  },
  {
   "cell_type": "code",
   "execution_count": null,
   "id": "ac412e3f",
   "metadata": {},
   "outputs": [],
   "source": [
    "# Ваш код здесь"
   ]
  },
  {
   "cell_type": "markdown",
   "id": "a161383a",
   "metadata": {},
   "source": [
    "#### 9. Описательная статистика для числовых полей"
   ]
  },
  {
   "cell_type": "code",
   "execution_count": null,
   "id": "080b6383",
   "metadata": {},
   "outputs": [],
   "source": [
    "# Ваш код здесь"
   ]
  },
  {
   "cell_type": "markdown",
   "id": "5baba524",
   "metadata": {},
   "source": [
    "#### 10. Описательная статистика для категориальных полей"
   ]
  },
  {
   "cell_type": "code",
   "execution_count": null,
   "id": "f8a250cb",
   "metadata": {},
   "outputs": [],
   "source": [
    "# Ваш код здесь"
   ]
  },
  {
   "cell_type": "markdown",
   "id": "3412196a",
   "metadata": {},
   "source": [
    "#### 11. Проверка наличия пропусков в данных"
   ]
  },
  {
   "cell_type": "code",
   "execution_count": null,
   "id": "3fa03adf",
   "metadata": {},
   "outputs": [],
   "source": [
    "# Ваш код здесь"
   ]
  },
  {
   "cell_type": "markdown",
   "id": "07d02a97",
   "metadata": {},
   "source": [
    "#### 12. Если вы обнаружили пропуски в данных, то заполните их на основе среднего или медианы или моды"
   ]
  },
  {
   "cell_type": "code",
   "execution_count": null,
   "id": "0b8e767e",
   "metadata": {},
   "outputs": [],
   "source": [
    "# Ваш код здесь"
   ]
  },
  {
   "cell_type": "markdown",
   "id": "7331a55a",
   "metadata": {},
   "source": [
    "#### 13. Фильтрация. Выберите все строки таблицы, для которых значение поля global_id больше 1758238713"
   ]
  },
  {
   "cell_type": "code",
   "execution_count": null,
   "id": "b1ebfc59",
   "metadata": {},
   "outputs": [],
   "source": [
    "# Ваш код здесь"
   ]
  },
  {
   "cell_type": "markdown",
   "id": "cfbc7f14",
   "metadata": {},
   "source": [
    "#### 14. Фильтрация. Выберите все строки таблицы, для которых значение поля PublishingHouse равно АСТ"
   ]
  },
  {
   "cell_type": "code",
   "execution_count": null,
   "id": "23528b8b",
   "metadata": {},
   "outputs": [],
   "source": [
    "# Ваш код здесь"
   ]
  },
  {
   "cell_type": "markdown",
   "id": "add84c23",
   "metadata": {},
   "source": [
    "#### 15. Фильтрация. Выберите все строки таблицы, для которых значение поля LitPrizeName равно Просветитель и значение поля Author равно Антология"
   ]
  },
  {
   "cell_type": "code",
   "execution_count": null,
   "id": "28c6cf68",
   "metadata": {},
   "outputs": [],
   "source": [
    "# Ваш код здесь"
   ]
  },
  {
   "cell_type": "markdown",
   "id": "f60be826",
   "metadata": {},
   "source": [
    "#### 16. Получите все уникальные значения поля  Author и подсчитайте частоту появления каждого их них"
   ]
  },
  {
   "cell_type": "code",
   "execution_count": null,
   "id": "3f9d4655",
   "metadata": {},
   "outputs": [],
   "source": [
    "# Ваш код здесь"
   ]
  },
  {
   "cell_type": "markdown",
   "id": "5520d435",
   "metadata": {},
   "source": [
    "#### 17. Выполните группировку набора данных одновременно по полям PublishingHouse и AgeLimit. Добавьте подсчет минимума, максимума и медианы по каждой группе."
   ]
  },
  {
   "cell_type": "code",
   "execution_count": null,
   "id": "a871a42f",
   "metadata": {},
   "outputs": [],
   "source": [
    "# Ваш код здесь"
   ]
  },
  {
   "cell_type": "markdown",
   "id": "06a0e48a",
   "metadata": {},
   "source": [
    "#### 18. Постройте поле корреляции (тепловая карта) для числовых полей"
   ]
  },
  {
   "cell_type": "code",
   "execution_count": null,
   "id": "34d85574",
   "metadata": {},
   "outputs": [],
   "source": [
    "# Ваш код здесь"
   ]
  },
  {
   "cell_type": "markdown",
   "id": "a2a38592",
   "metadata": {},
   "source": [
    "#### 19. Постройте гистограмму по полю PubYear"
   ]
  },
  {
   "cell_type": "code",
   "execution_count": null,
   "id": "052a49c7",
   "metadata": {},
   "outputs": [],
   "source": [
    "# Ваш код здесь"
   ]
  },
  {
   "cell_type": "markdown",
   "id": "0e107ab5",
   "metadata": {},
   "source": [
    "#### 20. Постройте точечную диаграмму для полей NominationYear и PubYear"
   ]
  },
  {
   "cell_type": "code",
   "execution_count": null,
   "id": "7bdc82b8",
   "metadata": {},
   "outputs": [],
   "source": [
    "# Ваш код здесь"
   ]
  },
  {
   "cell_type": "markdown",
   "id": "e72c180d",
   "metadata": {},
   "source": [
    "#### 21. Постройте диаграмму ящик с усами поля NominationYear"
   ]
  },
  {
   "cell_type": "code",
   "execution_count": null,
   "id": "2336d31e",
   "metadata": {},
   "outputs": [],
   "source": [
    "# Ваш код здесь. Также напишите о наличии выбросов в этом поле"
   ]
  },
  {
   "cell_type": "markdown",
   "id": "d9fea493",
   "metadata": {},
   "source": [
    "#### 22. Постройте матрицу диаграммы рассеяния"
   ]
  },
  {
   "cell_type": "code",
   "execution_count": null,
   "id": "0d36b03a",
   "metadata": {},
   "outputs": [],
   "source": [
    "# Ваш код здесь"
   ]
  },
  {
   "cell_type": "markdown",
   "id": "c3fb8846",
   "metadata": {},
   "source": [
    "#### 23. Преобразуйте все категориальные поля в числовые с помощью LabelEncoder"
   ]
  },
  {
   "cell_type": "code",
   "execution_count": null,
   "id": "ddbbeb9f",
   "metadata": {},
   "outputs": [],
   "source": [
    "# Ваш код здесь"
   ]
  },
  {
   "cell_type": "markdown",
   "id": "f81f149f",
   "metadata": {},
   "source": [
    "#### 24. Сделайте вывод о проделанной работе и особенностях набора данных"
   ]
  },
  {
   "cell_type": "code",
   "execution_count": null,
   "id": "f117805c",
   "metadata": {},
   "outputs": [],
   "source": [
    "# Ваш ответ здесь"
   ]
  }
 ],
 "metadata": {},
 "nbformat": 4,
 "nbformat_minor": 5
}
