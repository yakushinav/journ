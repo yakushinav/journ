{
 "cells": [
  {
   "cell_type": "markdown",
   "id": "6f77564a",
   "metadata": {},
   "source": [
    "# Разведочный анализ данных для набора данных: Достопримечательности_Санкт_Петербург"
   ]
  },
  {
   "cell_type": "markdown",
   "id": "4bfffa9e",
   "metadata": {},
   "source": [
    "## Задание\n",
    "\n",
    "Вам предлагается выполнить разведочный анализ данных и описать полученные результаты\n",
    "\n",
    "Описание набора данных: https://data.gov.spb.ru/irsi/7842489089-dostoprimechatelnosti/structure_version/157/\n",
    "\n",
    "Ссылка на набор данных для использования в блокноте: https://raw.githubusercontent.com/yakushinav/journ/refs/heads/main/datasets/dostoprimechatelnosti.csv"
   ]
  },
  {
   "cell_type": "markdown",
   "id": "eb31cf29",
   "metadata": {},
   "source": [
    "#### 1. Подключение библиотек"
   ]
  },
  {
   "cell_type": "code",
   "execution_count": null,
   "id": "8ca0b46f",
   "metadata": {},
   "outputs": [],
   "source": [
    "# Ваш код здесь"
   ]
  },
  {
   "cell_type": "markdown",
   "id": "9f19c5b3",
   "metadata": {},
   "source": [
    "#### 2. Чтение набора данных"
   ]
  },
  {
   "cell_type": "code",
   "execution_count": null,
   "id": "7c483349",
   "metadata": {},
   "outputs": [],
   "source": [
    "# Ваш код здесь"
   ]
  },
  {
   "cell_type": "markdown",
   "id": "b856d934",
   "metadata": {},
   "source": [
    "#### 3. Первые 5 строк набора данных"
   ]
  },
  {
   "cell_type": "code",
   "execution_count": null,
   "id": "48b1a183",
   "metadata": {},
   "outputs": [],
   "source": [
    "# Ваш код здесь"
   ]
  },
  {
   "cell_type": "markdown",
   "id": "08182af3",
   "metadata": {},
   "source": [
    "#### 4. Последние 7 строк набора данных"
   ]
  },
  {
   "cell_type": "code",
   "execution_count": null,
   "id": "a6a57cac",
   "metadata": {},
   "outputs": [],
   "source": [
    "# Ваш код здесь"
   ]
  },
  {
   "cell_type": "markdown",
   "id": "7f434f85",
   "metadata": {},
   "source": [
    "#### 5. Поля набора данных"
   ]
  },
  {
   "cell_type": "code",
   "execution_count": null,
   "id": "620d1869",
   "metadata": {},
   "outputs": [],
   "source": [
    "# Ваш код здесь"
   ]
  },
  {
   "cell_type": "markdown",
   "id": "8934ff81",
   "metadata": {},
   "source": [
    "#### 6. Размер набора данных (количество полей и строк)"
   ]
  },
  {
   "cell_type": "code",
   "execution_count": null,
   "id": "e8a73b13",
   "metadata": {},
   "outputs": [],
   "source": [
    "# Ваш код здесь"
   ]
  },
  {
   "cell_type": "markdown",
   "id": "37a9481f",
   "metadata": {},
   "source": [
    "#### 7. Опишите поля набора данных в формате: название поля, тип данных, назначение поля"
   ]
  },
  {
   "cell_type": "code",
   "execution_count": null,
   "id": "ab2e9f15",
   "metadata": {},
   "outputs": [],
   "source": [
    "# Ваш код здесь"
   ]
  },
  {
   "cell_type": "markdown",
   "id": "3380b8ff",
   "metadata": {},
   "source": [
    "#### 8. Информация о наборе данных"
   ]
  },
  {
   "cell_type": "code",
   "execution_count": null,
   "id": "8ce24658",
   "metadata": {},
   "outputs": [],
   "source": [
    "# Ваш код здесь"
   ]
  },
  {
   "cell_type": "markdown",
   "id": "6a9005c1",
   "metadata": {},
   "source": [
    "#### 9. Описательная статистика для числовых полей"
   ]
  },
  {
   "cell_type": "code",
   "execution_count": null,
   "id": "e2af815b",
   "metadata": {},
   "outputs": [],
   "source": [
    "# Ваш код здесь"
   ]
  },
  {
   "cell_type": "markdown",
   "id": "2d5b03a0",
   "metadata": {},
   "source": [
    "#### 10. Описательная статистика для категориальных полей"
   ]
  },
  {
   "cell_type": "code",
   "execution_count": null,
   "id": "1129dfd1",
   "metadata": {},
   "outputs": [],
   "source": [
    "# Ваш код здесь"
   ]
  },
  {
   "cell_type": "markdown",
   "id": "a5d300a1",
   "metadata": {},
   "source": [
    "#### 11. Проверка наличия пропусков в данных"
   ]
  },
  {
   "cell_type": "code",
   "execution_count": null,
   "id": "80518657",
   "metadata": {},
   "outputs": [],
   "source": [
    "# Ваш код здесь"
   ]
  },
  {
   "cell_type": "markdown",
   "id": "01fc188f",
   "metadata": {},
   "source": [
    "#### 12. Если вы обнаружили пропуски в данных, то заполните их на основе среднего или медианы или моды"
   ]
  },
  {
   "cell_type": "code",
   "execution_count": null,
   "id": "d6d64272",
   "metadata": {},
   "outputs": [],
   "source": [
    "# Ваш код здесь"
   ]
  },
  {
   "cell_type": "markdown",
   "id": "e46cc9e6",
   "metadata": {},
   "source": [
    "#### 13. Фильтрация. Выберите все строки таблицы, для которых значение поля ID в ИС ГТИБД больше 11429"
   ]
  },
  {
   "cell_type": "code",
   "execution_count": null,
   "id": "14c88813",
   "metadata": {},
   "outputs": [],
   "source": [
    "# Ваш код здесь"
   ]
  },
  {
   "cell_type": "markdown",
   "id": "e6eeb4d1",
   "metadata": {},
   "source": [
    "#### 14. Фильтрация. Выберите все строки таблицы, для которых значение поля Вид объекта равно Памятники"
   ]
  },
  {
   "cell_type": "code",
   "execution_count": null,
   "id": "aa54f56b",
   "metadata": {},
   "outputs": [],
   "source": [
    "# Ваш код здесь"
   ]
  },
  {
   "cell_type": "markdown",
   "id": "f69be1f4",
   "metadata": {},
   "source": [
    "#### 15. Фильтрация. Выберите все строки таблицы, для которых значение поля Краткое название равно Церковь Петра и Павла и значение поля Адрес (ручной) равно г. Санкт-Петербург, Аллея Героев Московского парка Победы"
   ]
  },
  {
   "cell_type": "code",
   "execution_count": null,
   "id": "2b785531",
   "metadata": {},
   "outputs": [],
   "source": [
    "# Ваш код здесь"
   ]
  },
  {
   "cell_type": "markdown",
   "id": "09aa77fc",
   "metadata": {},
   "source": [
    "#### 16. Получите все уникальные значения поля  Адрес (ручной) и подсчитайте частоту появления каждого их них"
   ]
  },
  {
   "cell_type": "code",
   "execution_count": null,
   "id": "1eb8d436",
   "metadata": {},
   "outputs": [],
   "source": [
    "# Ваш код здесь"
   ]
  },
  {
   "cell_type": "markdown",
   "id": "b78f6fc7",
   "metadata": {},
   "source": [
    "#### 17. Выполните группировку набора данных одновременно по полям Краткое название и Сайт. Добавьте подсчет минимума, максимума и медианы по каждой группе."
   ]
  },
  {
   "cell_type": "code",
   "execution_count": null,
   "id": "200ce49f",
   "metadata": {},
   "outputs": [],
   "source": [
    "# Ваш код здесь"
   ]
  },
  {
   "cell_type": "markdown",
   "id": "89c0ffce",
   "metadata": {},
   "source": [
    "#### 18. Постройте поле корреляции (тепловая карта) для числовых полей"
   ]
  },
  {
   "cell_type": "code",
   "execution_count": null,
   "id": "f8da0ff8",
   "metadata": {},
   "outputs": [],
   "source": [
    "# Ваш код здесь"
   ]
  },
  {
   "cell_type": "markdown",
   "id": "ecb70648",
   "metadata": {},
   "source": [
    "#### 19. Постройте гистограмму по полю Координата_Y"
   ]
  },
  {
   "cell_type": "code",
   "execution_count": null,
   "id": "07d11954",
   "metadata": {},
   "outputs": [],
   "source": [
    "# Ваш код здесь"
   ]
  },
  {
   "cell_type": "markdown",
   "id": "49bd4ee2",
   "metadata": {},
   "source": [
    "#### 20. Постройте точечную диаграмму для полей ID в ИС ГТИБД и Координата_Y"
   ]
  },
  {
   "cell_type": "code",
   "execution_count": null,
   "id": "4afef894",
   "metadata": {},
   "outputs": [],
   "source": [
    "# Ваш код здесь"
   ]
  },
  {
   "cell_type": "markdown",
   "id": "981cb7d5",
   "metadata": {},
   "source": [
    "#### 21. Постройте диаграмму ящик с усами поля ID в ИС ГТИБД"
   ]
  },
  {
   "cell_type": "code",
   "execution_count": null,
   "id": "de9ccfda",
   "metadata": {},
   "outputs": [],
   "source": [
    "# Ваш код здесь. Также напишите о наличии выбросов в этом поле"
   ]
  },
  {
   "cell_type": "markdown",
   "id": "b85ad76a",
   "metadata": {},
   "source": [
    "#### 22. Постройте матрицу диаграммы рассеяния"
   ]
  },
  {
   "cell_type": "code",
   "execution_count": null,
   "id": "c6d9ec72",
   "metadata": {},
   "outputs": [],
   "source": [
    "# Ваш код здесь"
   ]
  },
  {
   "cell_type": "markdown",
   "id": "53eb6254",
   "metadata": {},
   "source": [
    "#### 23. Преобразуйте все категориальные поля в числовые с помощью LabelEncoder"
   ]
  },
  {
   "cell_type": "code",
   "execution_count": null,
   "id": "72f84cf0",
   "metadata": {},
   "outputs": [],
   "source": [
    "# Ваш код здесь"
   ]
  },
  {
   "cell_type": "markdown",
   "id": "354b47cb",
   "metadata": {},
   "source": [
    "#### 24. Сделайте вывод о проделанной работе и особенностях набора данных"
   ]
  },
  {
   "cell_type": "code",
   "execution_count": null,
   "id": "f206de14",
   "metadata": {},
   "outputs": [],
   "source": [
    "# Ваш ответ здесь"
   ]
  }
 ],
 "metadata": {},
 "nbformat": 4,
 "nbformat_minor": 5
}
