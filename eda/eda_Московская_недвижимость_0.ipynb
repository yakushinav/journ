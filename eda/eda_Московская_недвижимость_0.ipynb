{
 "cells": [
  {
   "cell_type": "markdown",
   "id": "7e20fbcd",
   "metadata": {},
   "source": [
    "# Разведочный анализ данных для набора данных: Московская_недвижимость"
   ]
  },
  {
   "cell_type": "markdown",
   "id": "a0311f5a",
   "metadata": {},
   "source": [
    "## Задание\n",
    "\n",
    "Вам предлагается выполнить разведочный анализ данных и описать полученные результаты\n",
    "\n",
    "Описание набора данных: https://www.kaggle.com/datasets/egorkainov/moscow-housing-price-dataset\n",
    "\n",
    "Ссылка на набор данных для использования в блокноте: https://raw.githubusercontent.com/yakushinav/journ/refs/heads/main/datasets/data.csv"
   ]
  },
  {
   "cell_type": "markdown",
   "id": "0dcb94f9",
   "metadata": {},
   "source": [
    "#### 1. Подключение библиотек"
   ]
  },
  {
   "cell_type": "code",
   "execution_count": null,
   "id": "dfa76a6f",
   "metadata": {},
   "outputs": [],
   "source": [
    "# Ваш код здесь"
   ]
  },
  {
   "cell_type": "markdown",
   "id": "9100204b",
   "metadata": {},
   "source": [
    "#### 2. Чтение набора данных"
   ]
  },
  {
   "cell_type": "code",
   "execution_count": null,
   "id": "de7bacf5",
   "metadata": {},
   "outputs": [],
   "source": [
    "# Ваш код здесь"
   ]
  },
  {
   "cell_type": "markdown",
   "id": "abdfca33",
   "metadata": {},
   "source": [
    "#### 3. Первые 5 строк набора данных"
   ]
  },
  {
   "cell_type": "code",
   "execution_count": null,
   "id": "2e4c54be",
   "metadata": {},
   "outputs": [],
   "source": [
    "# Ваш код здесь"
   ]
  },
  {
   "cell_type": "markdown",
   "id": "19246367",
   "metadata": {},
   "source": [
    "#### 4. Последние 7 строк набора данных"
   ]
  },
  {
   "cell_type": "code",
   "execution_count": null,
   "id": "5c176f6d",
   "metadata": {},
   "outputs": [],
   "source": [
    "# Ваш код здесь"
   ]
  },
  {
   "cell_type": "markdown",
   "id": "8938dba0",
   "metadata": {},
   "source": [
    "#### 5. Поля набора данных"
   ]
  },
  {
   "cell_type": "code",
   "execution_count": null,
   "id": "64189545",
   "metadata": {},
   "outputs": [],
   "source": [
    "# Ваш код здесь"
   ]
  },
  {
   "cell_type": "markdown",
   "id": "edd3f441",
   "metadata": {},
   "source": [
    "#### 6. Размер набора данных (количество полей и строк)"
   ]
  },
  {
   "cell_type": "code",
   "execution_count": null,
   "id": "767f136b",
   "metadata": {},
   "outputs": [],
   "source": [
    "# Ваш код здесь"
   ]
  },
  {
   "cell_type": "markdown",
   "id": "5ea664d0",
   "metadata": {},
   "source": [
    "#### 7. Опишите поля набора данных в формате: название поля, тип данных, назначение поля"
   ]
  },
  {
   "cell_type": "code",
   "execution_count": null,
   "id": "491d6521",
   "metadata": {},
   "outputs": [],
   "source": [
    "# Ваш код здесь"
   ]
  },
  {
   "cell_type": "markdown",
   "id": "533c5899",
   "metadata": {},
   "source": [
    "#### 8. Информация о наборе данных"
   ]
  },
  {
   "cell_type": "code",
   "execution_count": null,
   "id": "5c384354",
   "metadata": {},
   "outputs": [],
   "source": [
    "# Ваш код здесь"
   ]
  },
  {
   "cell_type": "markdown",
   "id": "1910dd3a",
   "metadata": {},
   "source": [
    "#### 9. Описательная статистика для числовых полей"
   ]
  },
  {
   "cell_type": "code",
   "execution_count": null,
   "id": "1ec72830",
   "metadata": {},
   "outputs": [],
   "source": [
    "# Ваш код здесь"
   ]
  },
  {
   "cell_type": "markdown",
   "id": "6a032aec",
   "metadata": {},
   "source": [
    "#### 10. Описательная статистика для категориальных полей"
   ]
  },
  {
   "cell_type": "code",
   "execution_count": null,
   "id": "fc452c34",
   "metadata": {},
   "outputs": [],
   "source": [
    "# Ваш код здесь"
   ]
  },
  {
   "cell_type": "markdown",
   "id": "b6378903",
   "metadata": {},
   "source": [
    "#### 11. Проверка наличия пропусков в данных"
   ]
  },
  {
   "cell_type": "code",
   "execution_count": null,
   "id": "bc914278",
   "metadata": {},
   "outputs": [],
   "source": [
    "# Ваш код здесь"
   ]
  },
  {
   "cell_type": "markdown",
   "id": "ab320898",
   "metadata": {},
   "source": [
    "#### 12. Если вы обнаружили пропуски в данных, то заполните их на основе среднего или медианы или моды"
   ]
  },
  {
   "cell_type": "code",
   "execution_count": null,
   "id": "388b3bd2",
   "metadata": {},
   "outputs": [],
   "source": [
    "# Ваш код здесь"
   ]
  },
  {
   "cell_type": "markdown",
   "id": "bb644ff3",
   "metadata": {},
   "source": [
    "#### 13. Фильтрация. Выберите все строки таблицы, для которых значение поля Price больше 1228085000.0"
   ]
  },
  {
   "cell_type": "code",
   "execution_count": null,
   "id": "bed5256e",
   "metadata": {},
   "outputs": [],
   "source": [
    "# Ваш код здесь"
   ]
  },
  {
   "cell_type": "markdown",
   "id": "47488630",
   "metadata": {},
   "source": [
    "#### 14. Фильтрация. Выберите все строки таблицы, для которых значение поля Renovation равно Cosmetic"
   ]
  },
  {
   "cell_type": "code",
   "execution_count": null,
   "id": "9b38a810",
   "metadata": {},
   "outputs": [],
   "source": [
    "# Ваш код здесь"
   ]
  },
  {
   "cell_type": "markdown",
   "id": "0cdc1b70",
   "metadata": {},
   "source": [
    "#### 15. Фильтрация. Выберите все строки таблицы, для которых значение поля Renovation равно Cosmetic и значение поля Apartment type равно Secondary"
   ]
  },
  {
   "cell_type": "code",
   "execution_count": null,
   "id": "6b440201",
   "metadata": {},
   "outputs": [],
   "source": [
    "# Ваш код здесь"
   ]
  },
  {
   "cell_type": "markdown",
   "id": "bb3ae8b4",
   "metadata": {},
   "source": [
    "#### 16. Получите все уникальные значения поля  Apartment type и подсчитайте частоту появления каждого их них"
   ]
  },
  {
   "cell_type": "code",
   "execution_count": null,
   "id": "ec24b525",
   "metadata": {},
   "outputs": [],
   "source": [
    "# Ваш код здесь"
   ]
  },
  {
   "cell_type": "markdown",
   "id": "7e25971e",
   "metadata": {},
   "source": [
    "#### 17. Выполните группировку набора данных одновременно по полям Metro station и Apartment type. Добавьте подсчет минимума, максимума и медианы по каждой группе."
   ]
  },
  {
   "cell_type": "code",
   "execution_count": null,
   "id": "ad3ffbc2",
   "metadata": {},
   "outputs": [],
   "source": [
    "# Ваш код здесь"
   ]
  },
  {
   "cell_type": "markdown",
   "id": "6298830c",
   "metadata": {},
   "source": [
    "#### 18. Постройте поле корреляции (тепловая карта) для числовых полей"
   ]
  },
  {
   "cell_type": "code",
   "execution_count": null,
   "id": "bb74e50e",
   "metadata": {},
   "outputs": [],
   "source": [
    "# Ваш код здесь"
   ]
  },
  {
   "cell_type": "markdown",
   "id": "f41dd052",
   "metadata": {},
   "source": [
    "#### 19. Постройте гистограмму по полю Number of rooms"
   ]
  },
  {
   "cell_type": "code",
   "execution_count": null,
   "id": "abc6e668",
   "metadata": {},
   "outputs": [],
   "source": [
    "# Ваш код здесь"
   ]
  },
  {
   "cell_type": "markdown",
   "id": "7ae901f4",
   "metadata": {},
   "source": [
    "#### 20. Постройте точечную диаграмму для полей Area и Number of rooms"
   ]
  },
  {
   "cell_type": "code",
   "execution_count": null,
   "id": "700bd0c6",
   "metadata": {},
   "outputs": [],
   "source": [
    "# Ваш код здесь"
   ]
  },
  {
   "cell_type": "markdown",
   "id": "0843cca6",
   "metadata": {},
   "source": [
    "#### 21. Постройте диаграмму ящик с усами поля Area"
   ]
  },
  {
   "cell_type": "code",
   "execution_count": null,
   "id": "856555fb",
   "metadata": {},
   "outputs": [],
   "source": [
    "# Ваш код здесь. Также напишите о наличии выбросов в этом поле"
   ]
  },
  {
   "cell_type": "markdown",
   "id": "c2e90757",
   "metadata": {},
   "source": [
    "#### 22. Постройте матрицу диаграммы рассеяния"
   ]
  },
  {
   "cell_type": "code",
   "execution_count": null,
   "id": "8b6ffa77",
   "metadata": {},
   "outputs": [],
   "source": [
    "# Ваш код здесь"
   ]
  },
  {
   "cell_type": "markdown",
   "id": "8dd655a9",
   "metadata": {},
   "source": [
    "#### 23. Преобразуйте все категориальные поля в числовые с помощью LabelEncoder"
   ]
  },
  {
   "cell_type": "code",
   "execution_count": null,
   "id": "8ec70348",
   "metadata": {},
   "outputs": [],
   "source": [
    "# Ваш код здесь"
   ]
  },
  {
   "cell_type": "markdown",
   "id": "1f7fa950",
   "metadata": {},
   "source": [
    "#### 24. Сделайте вывод о проделанной работе и особенностях набора данных"
   ]
  },
  {
   "cell_type": "code",
   "execution_count": null,
   "id": "14f63b1c",
   "metadata": {},
   "outputs": [],
   "source": [
    "# Ваш ответ здесь"
   ]
  }
 ],
 "metadata": {},
 "nbformat": 4,
 "nbformat_minor": 5
}
