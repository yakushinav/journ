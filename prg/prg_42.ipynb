{
 "cells": [
  {
   "cell_type": "markdown",
   "id": "7460335a",
   "metadata": {},
   "source": [
    "# A - Задача на вычисление\n",
    "\n",
    "Держатели дисконтной карты книжного магазина получают при покупке скидку 5%. Книга стоит 200 рублей. Сколько рублей заплатит держатель дисконтной карты за эту книгу?"
   ]
  },
  {
   "cell_type": "markdown",
   "id": "cd234fd2",
   "metadata": {},
   "source": [
    "## Задание\n",
    "\n",
    "Напишите программу на языке Python для решения задачи с использованием переменных."
   ]
  },
  {
   "cell_type": "code",
   "execution_count": null,
   "id": "ccf61465",
   "metadata": {},
   "outputs": [],
   "source": [
    "# Ваш код здесь\n",
    "# 1. Входные данные. Здесь нужно определить переменные для хранения входных данных и присвоить им значения.\n",
    "\n",
    "# 2. Обработка данных. Здесь нужно вычислить искомое значение и сохранить его в переменной.\n",
    "\n",
    "# 3. Вывод результатов. Здесь нужно вывести вычисленное значение на экран.\n"
   ]
  },
  {
   "cell_type": "markdown",
   "id": "e90a847f",
   "metadata": {},
   "source": [
    "# B - Задача на ввод и вывод\n",
    "\n",
    "Баночка йогурта стоит X рубей. Какое наибольшее количество баночек йогурта можно купить на Y рублей?"
   ]
  },
  {
   "cell_type": "markdown",
   "id": "ebbfe60b",
   "metadata": {},
   "source": [
    "## Задание\n",
    "\n",
    "Напишите программу на языке Python для решения задачи с использованием переменных."
   ]
  },
  {
   "cell_type": "code",
   "execution_count": null,
   "id": "a039ca27",
   "metadata": {},
   "outputs": [],
   "source": [
    "# Ваш код здесь\n",
    "# 1. Входные данные. Здесь нужно определить переменные для хранения входных данных и ввести значения с клавиатуры.\n",
    "\n",
    "# 2. Обработка данных. Здесь нужно вычислить искомое значение и сохранить его в переменной.\n",
    "\n",
    "# 3. Вывод результатов. Здесь нужно вывести вычисленное значение на экран.\n"
   ]
  },
  {
   "cell_type": "markdown",
   "id": "9cbd5a45",
   "metadata": {},
   "source": [
    "# C - Задача про Агафью\n",
    "\n",
    "Агафья читает произведения различных направлений художественной литературы по врменам года. Летом она читает классицизм, осенью - романтизм, зимой - модерн, а весной - сентиментализм"
   ]
  },
  {
   "cell_type": "markdown",
   "id": "b537d764",
   "metadata": {},
   "source": [
    "## Задание\n",
    "\n",
    "Напишите программу на языке Python, которая по введенному времени года выведет направление литературы для Агафьи."
   ]
  },
  {
   "cell_type": "code",
   "execution_count": null,
   "id": "7e96f7c8",
   "metadata": {},
   "outputs": [],
   "source": [
    "# Ваш код здесь\n",
    "# 1. Входные данные. Здесь нужно определить переменные для хранения входных данных и ввести значения с клавиатуры.\n",
    "\n",
    "# 2. Обработка данных. Здесь нужно вычислить искомое значение и сохранить его в переменной.\n",
    "\n",
    "# 3. Вывод результатов. Здесь нужно вывести вычисленное значение на экран.\n"
   ]
  },
  {
   "cell_type": "markdown",
   "id": "f9787123",
   "metadata": {},
   "source": [
    "# D - Задача на списки\n",
    "\n",
    "Нужно сформировать список  lst из 20 элементов случайным образом. Элементы списка должны быть в диапазоне [-50;50]. Выведите элементы списка на экран."
   ]
  },
  {
   "cell_type": "code",
   "execution_count": null,
   "id": "0a5003d4",
   "metadata": {},
   "outputs": [],
   "source": [
    "# Ваш код здесь"
   ]
  },
  {
   "cell_type": "markdown",
   "id": "53467315",
   "metadata": {},
   "source": [
    "#### Задание 1: Найдите длину списка"
   ]
  },
  {
   "cell_type": "code",
   "execution_count": null,
   "id": "cc75804b",
   "metadata": {},
   "outputs": [],
   "source": [
    "# Ваш код здесь"
   ]
  },
  {
   "cell_type": "markdown",
   "id": "26319e2e",
   "metadata": {},
   "source": [
    "#### Задание 2: Найдите максимальный и минимальный элемент списка"
   ]
  },
  {
   "cell_type": "code",
   "execution_count": null,
   "id": "3ebb83a9",
   "metadata": {},
   "outputs": [],
   "source": [
    "# Ваш код здесь"
   ]
  },
  {
   "cell_type": "markdown",
   "id": "86366195",
   "metadata": {},
   "source": [
    "#### Задание 3: Выведите список в обратном порядке"
   ]
  },
  {
   "cell_type": "code",
   "execution_count": null,
   "id": "9489e2dc",
   "metadata": {},
   "outputs": [],
   "source": [
    "# Ваш код здесь"
   ]
  },
  {
   "cell_type": "markdown",
   "id": "abbcd41b",
   "metadata": {},
   "source": [
    "#### Задание 4: Создайте копию списка в переменной mlst и отсортируйте список mlst по возрастанию"
   ]
  },
  {
   "cell_type": "code",
   "execution_count": null,
   "id": "0a8f6f8d",
   "metadata": {},
   "outputs": [],
   "source": [
    "# Ваш код здесь"
   ]
  },
  {
   "cell_type": "markdown",
   "id": "a4fbe25b",
   "metadata": {},
   "source": [
    "#### Задание 5: Дано число K=3: Выведите элементы списка начиная с 0 с шагом K"
   ]
  },
  {
   "cell_type": "code",
   "execution_count": null,
   "id": "1f82dbc1",
   "metadata": {},
   "outputs": [],
   "source": [
    "# Ваш код здесь"
   ]
  },
  {
   "cell_type": "markdown",
   "id": "3209f00b",
   "metadata": {},
   "source": [
    "#### Задание 6: Выведите элементы списка, которые больше следующего элемента"
   ]
  },
  {
   "cell_type": "code",
   "execution_count": null,
   "id": "0caa6c92",
   "metadata": {},
   "outputs": [],
   "source": [
    "# Ваш код здесь"
   ]
  },
  {
   "cell_type": "markdown",
   "id": "01e36ed8",
   "metadata": {},
   "source": [
    "#### Задание 7: Найдите среднее арифметическое отрицательных элементов списка"
   ]
  },
  {
   "cell_type": "code",
   "execution_count": null,
   "id": "82792fb1",
   "metadata": {},
   "outputs": [],
   "source": [
    "# Ваш код здесь"
   ]
  },
  {
   "cell_type": "markdown",
   "id": "e88fa6de",
   "metadata": {},
   "source": [
    "# E - Задача на строки\n",
    "\n",
    "Пользователь вводит с клавиатуры строку. "
   ]
  },
  {
   "cell_type": "code",
   "execution_count": null,
   "id": "9c205a5e",
   "metadata": {},
   "outputs": [],
   "source": [
    "# Ваш код здесь"
   ]
  },
  {
   "cell_type": "markdown",
   "id": "e5d85cfd",
   "metadata": {},
   "source": [
    "#### Задание 1: Найдите длину строки"
   ]
  },
  {
   "cell_type": "code",
   "execution_count": null,
   "id": "18d6fad3",
   "metadata": {},
   "outputs": [],
   "source": [
    "# Ваш код здесь"
   ]
  },
  {
   "cell_type": "markdown",
   "id": "5ceee939",
   "metadata": {},
   "source": [
    "#### Задание 2: Найдите количество пробелов в строке"
   ]
  },
  {
   "cell_type": "code",
   "execution_count": null,
   "id": "f34f2a97",
   "metadata": {},
   "outputs": [],
   "source": [
    "# Ваш код здесь"
   ]
  },
  {
   "cell_type": "markdown",
   "id": "9b3f5ed4",
   "metadata": {},
   "source": [
    "#### Задание 3: Выведите строку в обратном порядке"
   ]
  },
  {
   "cell_type": "code",
   "execution_count": null,
   "id": "7254317c",
   "metadata": {},
   "outputs": [],
   "source": [
    "# Ваш код здесь"
   ]
  },
  {
   "cell_type": "markdown",
   "id": "9cdbb4a2",
   "metadata": {},
   "source": [
    "#### Задание 4: Выведите всю строку, кроме первых двух символов"
   ]
  },
  {
   "cell_type": "code",
   "execution_count": null,
   "id": "271db0a5",
   "metadata": {},
   "outputs": [],
   "source": [
    "# Ваш код здесь"
   ]
  },
  {
   "cell_type": "markdown",
   "id": "9c637205",
   "metadata": {},
   "source": [
    "#### Задание 5: Выведите предпоследний символ этой строки"
   ]
  },
  {
   "cell_type": "code",
   "execution_count": null,
   "id": "e0eff6ba",
   "metadata": {},
   "outputs": [],
   "source": [
    "# Ваш код здесь"
   ]
  },
  {
   "cell_type": "markdown",
   "id": "af737b31",
   "metadata": {},
   "source": [
    "#### Задание 6: Найдите количество слов в строке (слово это последовательность непробельных символов)"
   ]
  },
  {
   "cell_type": "code",
   "execution_count": null,
   "id": "ddbbe1ee",
   "metadata": {},
   "outputs": [],
   "source": [
    "# Ваш код здесь"
   ]
  },
  {
   "cell_type": "markdown",
   "id": "e2f8f215",
   "metadata": {},
   "source": [
    "#### Задание 7: Разделите строку на части используя пробел как разделитель и сохраните результат в списке slst"
   ]
  },
  {
   "cell_type": "code",
   "execution_count": null,
   "id": "9bfe20ef",
   "metadata": {},
   "outputs": [],
   "source": [
    "# Ваш код здесь"
   ]
  },
  {
   "cell_type": "markdown",
   "id": "1f436090",
   "metadata": {},
   "source": [
    "#### Задание 8: Пользователь вводит с клавиатуры символ. Его нужно сохранить в переменной С: Замените все вхождения символа на *"
   ]
  },
  {
   "cell_type": "code",
   "execution_count": null,
   "id": "bfe4d36e",
   "metadata": {},
   "outputs": [],
   "source": [
    "# Ваш код здесь"
   ]
  },
  {
   "cell_type": "markdown",
   "id": "2e9fcc16",
   "metadata": {},
   "source": [
    "#### Задание 9: Замените все вхождения символа . на ? в строке"
   ]
  },
  {
   "cell_type": "code",
   "execution_count": null,
   "id": "bdded801",
   "metadata": {},
   "outputs": [],
   "source": [
    "# Ваш код здесь"
   ]
  },
  {
   "cell_type": "markdown",
   "id": "b931ab60",
   "metadata": {},
   "source": [
    "#### Задание 10: Сформируйте новую строку, в которую поместите все знаки препинания из исходной строки"
   ]
  },
  {
   "cell_type": "code",
   "execution_count": null,
   "id": "8313fde6",
   "metadata": {},
   "outputs": [],
   "source": [
    "# Ваш код здесь"
   ]
  }
 ],
 "metadata": {},
 "nbformat": 4,
 "nbformat_minor": 5
}
