{
 "cells": [
  {
   "cell_type": "markdown",
   "id": "493bfc94",
   "metadata": {},
   "source": [
    "# A - Задача на вычисление\n",
    "\n",
    "На автозаправке клиент отдал кассиру 1000 рублей и залил в бак 28 литров бензина по цене 28 руб. 50 коп. за литр. Сколько рублей сдачи он должен получить у кассира?"
   ]
  },
  {
   "cell_type": "markdown",
   "id": "b51004ea",
   "metadata": {},
   "source": [
    "## Задание\n",
    "\n",
    "Напишите программу на языке Python для решения задачи с использованием переменных."
   ]
  },
  {
   "cell_type": "code",
   "execution_count": null,
   "id": "2a8241cf",
   "metadata": {},
   "outputs": [],
   "source": [
    "# Ваш код здесь\n",
    "# 1. Входные данные. Здесь нужно определить переменные для хранения входных данных и присвоить им значения.\n",
    "\n",
    "# 2. Обработка данных. Здесь нужно вычислить искомое значение и сохранить его в переменной.\n",
    "\n",
    "# 3. Вывод результатов. Здесь нужно вывести вычисленное значение на экран.\n"
   ]
  },
  {
   "cell_type": "markdown",
   "id": "2186b006",
   "metadata": {},
   "source": [
    "# B - Задача на ввод и вывод\n",
    "\n",
    "Розничная цена учебника X рублей, она на 20% выше оптовой цены. Какое наибольшее число таких учебников можно купить по оптовой цене на Y рублей?"
   ]
  },
  {
   "cell_type": "markdown",
   "id": "e7b1f16f",
   "metadata": {},
   "source": [
    "## Задание\n",
    "\n",
    "Напишите программу на языке Python для решения задачи с использованием переменных."
   ]
  },
  {
   "cell_type": "code",
   "execution_count": null,
   "id": "fe085b3d",
   "metadata": {},
   "outputs": [],
   "source": [
    "# Ваш код здесь\n",
    "# 1. Входные данные. Здесь нужно определить переменные для хранения входных данных и ввести значения с клавиатуры.\n",
    "\n",
    "# 2. Обработка данных. Здесь нужно вычислить искомое значение и сохранить его в переменной.\n",
    "\n",
    "# 3. Вывод результатов. Здесь нужно вывести вычисленное значение на экран.\n"
   ]
  },
  {
   "cell_type": "markdown",
   "id": "3bad45ac",
   "metadata": {},
   "source": [
    "# C - Задача про Леонарда\n",
    "\n",
    "Леонард меняет цвет своего костюма по временам года. Весной он носит коричневый костюм, летом - льняной белый, осенью - серый, зимой - черный."
   ]
  },
  {
   "cell_type": "markdown",
   "id": "8bac4253",
   "metadata": {},
   "source": [
    "## Задание\n",
    "\n",
    "Напишите программу на языке Python, которая по введенному времени года выдаст цвет костюма для Леонарда."
   ]
  },
  {
   "cell_type": "code",
   "execution_count": null,
   "id": "d69d4000",
   "metadata": {},
   "outputs": [],
   "source": [
    "# Ваш код здесь\n",
    "# 1. Входные данные. Здесь нужно определить переменные для хранения входных данных и ввести значения с клавиатуры.\n",
    "\n",
    "# 2. Обработка данных. Здесь нужно вычислить искомое значение и сохранить его в переменной.\n",
    "\n",
    "# 3. Вывод результатов. Здесь нужно вывести вычисленное значение на экран.\n"
   ]
  },
  {
   "cell_type": "markdown",
   "id": "cebd63b6",
   "metadata": {},
   "source": [
    "# D - Задача на списки\n",
    "\n",
    "Нужно сформировать список  lst из 20 элементов случайным образом. Элементы списка должны быть в диапазоне [-50;50]. Выведите элементы списка на экран."
   ]
  },
  {
   "cell_type": "code",
   "execution_count": null,
   "id": "a147d51e",
   "metadata": {},
   "outputs": [],
   "source": [
    "# Ваш код здесь"
   ]
  },
  {
   "cell_type": "markdown",
   "id": "e62a2b32",
   "metadata": {},
   "source": [
    "#### Задание 1: Найдите длину списка"
   ]
  },
  {
   "cell_type": "code",
   "execution_count": null,
   "id": "46617999",
   "metadata": {},
   "outputs": [],
   "source": [
    "# Ваш код здесь"
   ]
  },
  {
   "cell_type": "markdown",
   "id": "7a70ecc6",
   "metadata": {},
   "source": [
    "#### Задание 2: Найдите максимальный и минимальный элемент списка"
   ]
  },
  {
   "cell_type": "code",
   "execution_count": null,
   "id": "e59e5f41",
   "metadata": {},
   "outputs": [],
   "source": [
    "# Ваш код здесь"
   ]
  },
  {
   "cell_type": "markdown",
   "id": "b207a78f",
   "metadata": {},
   "source": [
    "#### Задание 3: Выведите список в обратном порядке"
   ]
  },
  {
   "cell_type": "code",
   "execution_count": null,
   "id": "a39a2255",
   "metadata": {},
   "outputs": [],
   "source": [
    "# Ваш код здесь"
   ]
  },
  {
   "cell_type": "markdown",
   "id": "3d415c74",
   "metadata": {},
   "source": [
    "#### Задание 4: Создайте копию списка в переменной mlst и отсортируйте список mlst по возрастанию"
   ]
  },
  {
   "cell_type": "code",
   "execution_count": null,
   "id": "1808ef00",
   "metadata": {},
   "outputs": [],
   "source": [
    "# Ваш код здесь"
   ]
  },
  {
   "cell_type": "markdown",
   "id": "06b9e94a",
   "metadata": {},
   "source": [
    "#### Задание 5: Дано число K=8: Выведите элемент списка с номером K "
   ]
  },
  {
   "cell_type": "code",
   "execution_count": null,
   "id": "6a9278d9",
   "metadata": {},
   "outputs": [],
   "source": [
    "# Ваш код здесь"
   ]
  },
  {
   "cell_type": "markdown",
   "id": "58c77460",
   "metadata": {},
   "source": [
    "#### Задание 6: Выведите элементы списка, которые заканчиваются на 6"
   ]
  },
  {
   "cell_type": "code",
   "execution_count": null,
   "id": "d2831cae",
   "metadata": {},
   "outputs": [],
   "source": [
    "# Ваш код здесь"
   ]
  },
  {
   "cell_type": "markdown",
   "id": "ec4be8be",
   "metadata": {},
   "source": [
    "#### Задание 7: Найдите произведение нечетных элементов списка"
   ]
  },
  {
   "cell_type": "code",
   "execution_count": null,
   "id": "51b6161c",
   "metadata": {},
   "outputs": [],
   "source": [
    "# Ваш код здесь"
   ]
  },
  {
   "cell_type": "markdown",
   "id": "1634679a",
   "metadata": {},
   "source": [
    "# E - Задача на строки\n",
    "\n",
    "Пользователь вводит с клавиатуры строку. "
   ]
  },
  {
   "cell_type": "code",
   "execution_count": null,
   "id": "07af6ed1",
   "metadata": {},
   "outputs": [],
   "source": [
    "# Ваш код здесь"
   ]
  },
  {
   "cell_type": "markdown",
   "id": "ade52dec",
   "metadata": {},
   "source": [
    "#### Задание 1: Найдите длину строки"
   ]
  },
  {
   "cell_type": "code",
   "execution_count": null,
   "id": "4cfcc3c0",
   "metadata": {},
   "outputs": [],
   "source": [
    "# Ваш код здесь"
   ]
  },
  {
   "cell_type": "markdown",
   "id": "9cf18216",
   "metadata": {},
   "source": [
    "#### Задание 2: Найдите количество пробелов в строке"
   ]
  },
  {
   "cell_type": "code",
   "execution_count": null,
   "id": "71079a4b",
   "metadata": {},
   "outputs": [],
   "source": [
    "# Ваш код здесь"
   ]
  },
  {
   "cell_type": "markdown",
   "id": "a0098dce",
   "metadata": {},
   "source": [
    "#### Задание 3: Выведите строку в обратном порядке"
   ]
  },
  {
   "cell_type": "code",
   "execution_count": null,
   "id": "6b11d4aa",
   "metadata": {},
   "outputs": [],
   "source": [
    "# Ваш код здесь"
   ]
  },
  {
   "cell_type": "markdown",
   "id": "b1088184",
   "metadata": {},
   "source": [
    "#### Задание 4: Выведите всю строку, кроме первых двух символов"
   ]
  },
  {
   "cell_type": "code",
   "execution_count": null,
   "id": "0b3bbd8d",
   "metadata": {},
   "outputs": [],
   "source": [
    "# Ваш код здесь"
   ]
  },
  {
   "cell_type": "markdown",
   "id": "0facb0ee",
   "metadata": {},
   "source": [
    "#### Задание 5: Выведите предпоследний символ этой строки"
   ]
  },
  {
   "cell_type": "code",
   "execution_count": null,
   "id": "3746d220",
   "metadata": {},
   "outputs": [],
   "source": [
    "# Ваш код здесь"
   ]
  },
  {
   "cell_type": "markdown",
   "id": "56689bf0",
   "metadata": {},
   "source": [
    "#### Задание 6: Найдите количество слов в строке (слово это последовательность непробельных символов)"
   ]
  },
  {
   "cell_type": "code",
   "execution_count": null,
   "id": "4e1e1988",
   "metadata": {},
   "outputs": [],
   "source": [
    "# Ваш код здесь"
   ]
  },
  {
   "cell_type": "markdown",
   "id": "cf2394ce",
   "metadata": {},
   "source": [
    "#### Задание 7: Разделите строку на части используя пробел как разделитель и сохраните результат в списке slst"
   ]
  },
  {
   "cell_type": "code",
   "execution_count": null,
   "id": "08497a08",
   "metadata": {},
   "outputs": [],
   "source": [
    "# Ваш код здесь"
   ]
  },
  {
   "cell_type": "markdown",
   "id": "ebb82360",
   "metadata": {},
   "source": [
    "#### Задание 8: Пользователь вводит с клавиатуры символ. Его нужно сохранить в переменной С: Замените все вхождения символа на *"
   ]
  },
  {
   "cell_type": "code",
   "execution_count": null,
   "id": "a525a5ee",
   "metadata": {},
   "outputs": [],
   "source": [
    "# Ваш код здесь"
   ]
  },
  {
   "cell_type": "markdown",
   "id": "9eca5d45",
   "metadata": {},
   "source": [
    "#### Задание 9: Удалите пробельные символы в конце строки"
   ]
  },
  {
   "cell_type": "code",
   "execution_count": null,
   "id": "9668a6f8",
   "metadata": {},
   "outputs": [],
   "source": [
    "# Ваш код здесь"
   ]
  },
  {
   "cell_type": "markdown",
   "id": "5c718457",
   "metadata": {},
   "source": [
    "#### Задание 10: Найдите количество слов в строке, которые начинаются на y"
   ]
  },
  {
   "cell_type": "code",
   "execution_count": null,
   "id": "3eb2519b",
   "metadata": {},
   "outputs": [],
   "source": [
    "# Ваш код здесь"
   ]
  }
 ],
 "metadata": {},
 "nbformat": 4,
 "nbformat_minor": 5
}
