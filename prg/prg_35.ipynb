{
 "cells": [
  {
   "cell_type": "markdown",
   "id": "3ca6838c",
   "metadata": {},
   "source": [
    "# A - Задача на вычисление\n",
    "\n",
    "В школе французский язык изучают 124 учащихся, что составляет 25% от числа всех учащихся школы. Сколько учащихся в школе?"
   ]
  },
  {
   "cell_type": "markdown",
   "id": "7ff64055",
   "metadata": {},
   "source": [
    "## Задание\n",
    "\n",
    "Напишите программу на языке Python для решения задачи с использованием переменных."
   ]
  },
  {
   "cell_type": "code",
   "execution_count": null,
   "id": "2fcdc843",
   "metadata": {},
   "outputs": [],
   "source": [
    "# Ваш код здесь\n",
    "# 1. Входные данные. Здесь нужно определить переменные для хранения входных данных и присвоить им значения.\n",
    "\n",
    "# 2. Обработка данных. Здесь нужно вычислить искомое значение и сохранить его в переменной.\n",
    "\n",
    "# 3. Вывод результатов. Здесь нужно вывести вычисленное значение на экран.\n"
   ]
  },
  {
   "cell_type": "markdown",
   "id": "31be694c",
   "metadata": {},
   "source": [
    "# B - Задача на ввод и вывод\n",
    "\n",
    "В доме, в котором живет Маша, 9 этажей и несколько подъездов. На каждом этаже находится по X квартиры. Маша живет в квартире №Y. В каком подъезде живет Маша?"
   ]
  },
  {
   "cell_type": "markdown",
   "id": "b05c3b9d",
   "metadata": {},
   "source": [
    "## Задание\n",
    "\n",
    "Напишите программу на языке Python для решения задачи с использованием переменных."
   ]
  },
  {
   "cell_type": "code",
   "execution_count": null,
   "id": "535d81ca",
   "metadata": {},
   "outputs": [],
   "source": [
    "# Ваш код здесь\n",
    "# 1. Входные данные. Здесь нужно определить переменные для хранения входных данных и ввести значения с клавиатуры.\n",
    "\n",
    "# 2. Обработка данных. Здесь нужно вычислить искомое значение и сохранить его в переменной.\n",
    "\n",
    "# 3. Вывод результатов. Здесь нужно вывести вычисленное значение на экран.\n"
   ]
  },
  {
   "cell_type": "markdown",
   "id": "463b1c11",
   "metadata": {},
   "source": [
    "# C - Задача про Амалию\n",
    "\n",
    "Амалия меняет цвет своей юбки дням недели. В понедельник и вторник она носит черную юбку, в среду и субботу - серую, в четверг и пятницу - коричневую, в воскреснье - золотистую."
   ]
  },
  {
   "cell_type": "markdown",
   "id": "4b09bbab",
   "metadata": {},
   "source": [
    "## Задание\n",
    "\n",
    "Напишите программу на языке Python, которая по введенному дню недели выведет цвет юбки для Амалии."
   ]
  },
  {
   "cell_type": "code",
   "execution_count": null,
   "id": "74fdd830",
   "metadata": {},
   "outputs": [],
   "source": [
    "# Ваш код здесь\n",
    "# 1. Входные данные. Здесь нужно определить переменные для хранения входных данных и ввести значения с клавиатуры.\n",
    "\n",
    "# 2. Обработка данных. Здесь нужно вычислить искомое значение и сохранить его в переменной.\n",
    "\n",
    "# 3. Вывод результатов. Здесь нужно вывести вычисленное значение на экран.\n"
   ]
  },
  {
   "cell_type": "markdown",
   "id": "7f9e8774",
   "metadata": {},
   "source": [
    "# D - Задача на списки\n",
    "\n",
    "Нужно сформировать список  lst из 20 элементов случайным образом. Элементы списка должны быть в диапазоне [-50;50]. Выведите элементы списка на экран."
   ]
  },
  {
   "cell_type": "code",
   "execution_count": null,
   "id": "e40f1a17",
   "metadata": {},
   "outputs": [],
   "source": [
    "# Ваш код здесь"
   ]
  },
  {
   "cell_type": "markdown",
   "id": "ea7693a9",
   "metadata": {},
   "source": [
    "#### Задание 1: Найдите длину списка"
   ]
  },
  {
   "cell_type": "code",
   "execution_count": null,
   "id": "ada06b32",
   "metadata": {},
   "outputs": [],
   "source": [
    "# Ваш код здесь"
   ]
  },
  {
   "cell_type": "markdown",
   "id": "3ca8dba4",
   "metadata": {},
   "source": [
    "#### Задание 2: Найдите максимальный и минимальный элемент списка"
   ]
  },
  {
   "cell_type": "code",
   "execution_count": null,
   "id": "80dda082",
   "metadata": {},
   "outputs": [],
   "source": [
    "# Ваш код здесь"
   ]
  },
  {
   "cell_type": "markdown",
   "id": "20a186e2",
   "metadata": {},
   "source": [
    "#### Задание 3: Выведите список в обратном порядке"
   ]
  },
  {
   "cell_type": "code",
   "execution_count": null,
   "id": "4efa7f78",
   "metadata": {},
   "outputs": [],
   "source": [
    "# Ваш код здесь"
   ]
  },
  {
   "cell_type": "markdown",
   "id": "372d27c4",
   "metadata": {},
   "source": [
    "#### Задание 4: Создайте копию списка в переменной mlst и отсортируйте список mlst по возрастанию"
   ]
  },
  {
   "cell_type": "code",
   "execution_count": null,
   "id": "efeaefe1",
   "metadata": {},
   "outputs": [],
   "source": [
    "# Ваш код здесь"
   ]
  },
  {
   "cell_type": "markdown",
   "id": "e4b53a8d",
   "metadata": {},
   "source": [
    "#### Задание 5: Дано число K=8: Выведите последние K элементов списка"
   ]
  },
  {
   "cell_type": "code",
   "execution_count": null,
   "id": "0608038e",
   "metadata": {},
   "outputs": [],
   "source": [
    "# Ваш код здесь"
   ]
  },
  {
   "cell_type": "markdown",
   "id": "d4281525",
   "metadata": {},
   "source": [
    "#### Задание 6: Найдите произведение элементов спискаНайдите среднее арифметическое элементов списка"
   ]
  },
  {
   "cell_type": "code",
   "execution_count": null,
   "id": "df4d3cdc",
   "metadata": {},
   "outputs": [],
   "source": [
    "# Ваш код здесь"
   ]
  },
  {
   "cell_type": "markdown",
   "id": "7b88f136",
   "metadata": {},
   "source": [
    "#### Задание 7: Найдите произведение положительных элементов списка"
   ]
  },
  {
   "cell_type": "code",
   "execution_count": null,
   "id": "63cb209c",
   "metadata": {},
   "outputs": [],
   "source": [
    "# Ваш код здесь"
   ]
  },
  {
   "cell_type": "markdown",
   "id": "50b18710",
   "metadata": {},
   "source": [
    "# E - Задача на строки\n",
    "\n",
    "Пользователь вводит с клавиатуры строку. "
   ]
  },
  {
   "cell_type": "code",
   "execution_count": null,
   "id": "709760a5",
   "metadata": {},
   "outputs": [],
   "source": [
    "# Ваш код здесь"
   ]
  },
  {
   "cell_type": "markdown",
   "id": "c2406e02",
   "metadata": {},
   "source": [
    "#### Задание 1: Найдите длину строки"
   ]
  },
  {
   "cell_type": "code",
   "execution_count": null,
   "id": "20065325",
   "metadata": {},
   "outputs": [],
   "source": [
    "# Ваш код здесь"
   ]
  },
  {
   "cell_type": "markdown",
   "id": "a2b35708",
   "metadata": {},
   "source": [
    "#### Задание 2: Найдите количество пробелов в строке"
   ]
  },
  {
   "cell_type": "code",
   "execution_count": null,
   "id": "a8873fbb",
   "metadata": {},
   "outputs": [],
   "source": [
    "# Ваш код здесь"
   ]
  },
  {
   "cell_type": "markdown",
   "id": "407f5947",
   "metadata": {},
   "source": [
    "#### Задание 3: Выведите строку в обратном порядке"
   ]
  },
  {
   "cell_type": "code",
   "execution_count": null,
   "id": "65f1cb41",
   "metadata": {},
   "outputs": [],
   "source": [
    "# Ваш код здесь"
   ]
  },
  {
   "cell_type": "markdown",
   "id": "7330518b",
   "metadata": {},
   "source": [
    "#### Задание 4: Выведите всю строку, кроме первых двух символов"
   ]
  },
  {
   "cell_type": "code",
   "execution_count": null,
   "id": "235438a0",
   "metadata": {},
   "outputs": [],
   "source": [
    "# Ваш код здесь"
   ]
  },
  {
   "cell_type": "markdown",
   "id": "5f139a57",
   "metadata": {},
   "source": [
    "#### Задание 5: Выведите предпоследний символ этой строки"
   ]
  },
  {
   "cell_type": "code",
   "execution_count": null,
   "id": "79534847",
   "metadata": {},
   "outputs": [],
   "source": [
    "# Ваш код здесь"
   ]
  },
  {
   "cell_type": "markdown",
   "id": "b0445b08",
   "metadata": {},
   "source": [
    "#### Задание 6: Найдите количество слов в строке (слово это последовательность непробельных символов)"
   ]
  },
  {
   "cell_type": "code",
   "execution_count": null,
   "id": "285bd611",
   "metadata": {},
   "outputs": [],
   "source": [
    "# Ваш код здесь"
   ]
  },
  {
   "cell_type": "markdown",
   "id": "a4651840",
   "metadata": {},
   "source": [
    "#### Задание 7: Разделите строку на части используя пробел как разделитель и сохраните результат в списке slst"
   ]
  },
  {
   "cell_type": "code",
   "execution_count": null,
   "id": "a3422353",
   "metadata": {},
   "outputs": [],
   "source": [
    "# Ваш код здесь"
   ]
  },
  {
   "cell_type": "markdown",
   "id": "ebb4bb8e",
   "metadata": {},
   "source": [
    "#### Задание 8: Пользователь вводит с клавиатуры символ. Его нужно сохранить в переменной С: Выведите все элементы строки до первого вхождения символа"
   ]
  },
  {
   "cell_type": "code",
   "execution_count": null,
   "id": "89cc1cc8",
   "metadata": {},
   "outputs": [],
   "source": [
    "# Ваш код здесь"
   ]
  },
  {
   "cell_type": "markdown",
   "id": "f486bd02",
   "metadata": {},
   "source": [
    "#### Задание 9: Определите есть ли в строке цифра 6"
   ]
  },
  {
   "cell_type": "code",
   "execution_count": null,
   "id": "7ca57ab4",
   "metadata": {},
   "outputs": [],
   "source": [
    "# Ваш код здесь"
   ]
  },
  {
   "cell_type": "markdown",
   "id": "aa790b4e",
   "metadata": {},
   "source": [
    "#### Задание 10: Найдите количество слов в строке, которые начинаются на g"
   ]
  },
  {
   "cell_type": "code",
   "execution_count": null,
   "id": "0f7f8cdb",
   "metadata": {},
   "outputs": [],
   "source": [
    "# Ваш код здесь"
   ]
  }
 ],
 "metadata": {},
 "nbformat": 4,
 "nbformat_minor": 5
}
