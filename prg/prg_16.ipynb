{
 "cells": [
  {
   "cell_type": "markdown",
   "id": "45cb71bb",
   "metadata": {},
   "source": [
    "# A - Задача на вычисление\n",
    "\n",
    "В сентябре 1кг слив стоил 60 рублей. В октябре сливы подорожали на 25%. Сколько рублей стоил 1кг слив после подорожания в октябре?"
   ]
  },
  {
   "cell_type": "markdown",
   "id": "ae15383c",
   "metadata": {},
   "source": [
    "## Задание\n",
    "\n",
    "Напишите программу на языке Python для решения задачи с использованием переменных."
   ]
  },
  {
   "cell_type": "code",
   "execution_count": null,
   "id": "52dd3046",
   "metadata": {},
   "outputs": [],
   "source": [
    "# Ваш код здесь\n",
    "# 1. Входные данные. Здесь нужно определить переменные для хранения входных данных и присвоить им значения.\n",
    "\n",
    "# 2. Обработка данных. Здесь нужно вычислить искомое значение и сохранить его в переменной.\n",
    "\n",
    "# 3. Вывод результатов. Здесь нужно вывести вычисленное значение на экран.\n"
   ]
  },
  {
   "cell_type": "markdown",
   "id": "38c198c0",
   "metadata": {},
   "source": [
    "# B - Задача на ввод и вывод\n",
    "\n",
    "Держатели дисконтной карты книжного магазина получают при покупке скидку X%. Книга стоит Y рублей. Сколько рублей заплатит держатель дисконтной карты за эту книгу?"
   ]
  },
  {
   "cell_type": "markdown",
   "id": "535cad5c",
   "metadata": {},
   "source": [
    "## Задание\n",
    "\n",
    "Напишите программу на языке Python для решения задачи с использованием переменных."
   ]
  },
  {
   "cell_type": "code",
   "execution_count": null,
   "id": "2d6fa6cb",
   "metadata": {},
   "outputs": [],
   "source": [
    "# Ваш код здесь\n",
    "# 1. Входные данные. Здесь нужно определить переменные для хранения входных данных и ввести значения с клавиатуры.\n",
    "\n",
    "# 2. Обработка данных. Здесь нужно вычислить искомое значение и сохранить его в переменной.\n",
    "\n",
    "# 3. Вывод результатов. Здесь нужно вывести вычисленное значение на экран.\n"
   ]
  },
  {
   "cell_type": "markdown",
   "id": "1f92fe71",
   "metadata": {},
   "source": [
    "# C - Задача про Остапа\n",
    "\n",
    "Остап разнорабочий по временам года. Весной он работает на лесоповале, летом - на стройке, осенью - на заводе, зимой - на логистическом центре."
   ]
  },
  {
   "cell_type": "markdown",
   "id": "b292eb8f",
   "metadata": {},
   "source": [
    "## Задание\n",
    "\n",
    "Напишите программу на языке Python, которая по введенному времени года выведет работу для Остапа."
   ]
  },
  {
   "cell_type": "code",
   "execution_count": null,
   "id": "f8c9cd63",
   "metadata": {},
   "outputs": [],
   "source": [
    "# Ваш код здесь\n",
    "# 1. Входные данные. Здесь нужно определить переменные для хранения входных данных и ввести значения с клавиатуры.\n",
    "\n",
    "# 2. Обработка данных. Здесь нужно вычислить искомое значение и сохранить его в переменной.\n",
    "\n",
    "# 3. Вывод результатов. Здесь нужно вывести вычисленное значение на экран.\n"
   ]
  },
  {
   "cell_type": "markdown",
   "id": "6cc1c2a6",
   "metadata": {},
   "source": [
    "# D - Задача на списки\n",
    "\n",
    "Нужно сформировать список  lst из 20 элементов случайным образом. Элементы списка должны быть в диапазоне [-50;50]. Выведите элементы списка на экран."
   ]
  },
  {
   "cell_type": "code",
   "execution_count": null,
   "id": "89adf7cc",
   "metadata": {},
   "outputs": [],
   "source": [
    "# Ваш код здесь"
   ]
  },
  {
   "cell_type": "markdown",
   "id": "0c2b3fb2",
   "metadata": {},
   "source": [
    "#### Задание 1: Найдите длину списка"
   ]
  },
  {
   "cell_type": "code",
   "execution_count": null,
   "id": "49b43031",
   "metadata": {},
   "outputs": [],
   "source": [
    "# Ваш код здесь"
   ]
  },
  {
   "cell_type": "markdown",
   "id": "6292bce4",
   "metadata": {},
   "source": [
    "#### Задание 2: Найдите максимальный и минимальный элемент списка"
   ]
  },
  {
   "cell_type": "code",
   "execution_count": null,
   "id": "282e94fe",
   "metadata": {},
   "outputs": [],
   "source": [
    "# Ваш код здесь"
   ]
  },
  {
   "cell_type": "markdown",
   "id": "6e5005c3",
   "metadata": {},
   "source": [
    "#### Задание 3: Выведите список в обратном порядке"
   ]
  },
  {
   "cell_type": "code",
   "execution_count": null,
   "id": "eec63992",
   "metadata": {},
   "outputs": [],
   "source": [
    "# Ваш код здесь"
   ]
  },
  {
   "cell_type": "markdown",
   "id": "b42ab6a6",
   "metadata": {},
   "source": [
    "#### Задание 4: Создайте копию списка в переменной mlst и отсортируйте список mlst по возрастанию"
   ]
  },
  {
   "cell_type": "code",
   "execution_count": null,
   "id": "531a5fdc",
   "metadata": {},
   "outputs": [],
   "source": [
    "# Ваш код здесь"
   ]
  },
  {
   "cell_type": "markdown",
   "id": "ea80143c",
   "metadata": {},
   "source": [
    "#### Задание 5: Дано число K=5: Найдите сумму первых K элементов списка"
   ]
  },
  {
   "cell_type": "code",
   "execution_count": null,
   "id": "52324e89",
   "metadata": {},
   "outputs": [],
   "source": [
    "# Ваш код здесь"
   ]
  },
  {
   "cell_type": "markdown",
   "id": "f98f9d01",
   "metadata": {},
   "source": [
    "#### Задание 6: Выведите элементы списка, которые заканчиваются на 3"
   ]
  },
  {
   "cell_type": "code",
   "execution_count": null,
   "id": "b91d7204",
   "metadata": {},
   "outputs": [],
   "source": [
    "# Ваш код здесь"
   ]
  },
  {
   "cell_type": "markdown",
   "id": "b94cff67",
   "metadata": {},
   "source": [
    "#### Задание 7: Найдите количество четных элементов списка"
   ]
  },
  {
   "cell_type": "code",
   "execution_count": null,
   "id": "51c43905",
   "metadata": {},
   "outputs": [],
   "source": [
    "# Ваш код здесь"
   ]
  },
  {
   "cell_type": "markdown",
   "id": "14fbf990",
   "metadata": {},
   "source": [
    "# E - Задача на строки\n",
    "\n",
    "Пользователь вводит с клавиатуры строку. "
   ]
  },
  {
   "cell_type": "code",
   "execution_count": null,
   "id": "855d19c8",
   "metadata": {},
   "outputs": [],
   "source": [
    "# Ваш код здесь"
   ]
  },
  {
   "cell_type": "markdown",
   "id": "813b436c",
   "metadata": {},
   "source": [
    "#### Задание 1: Найдите длину строки"
   ]
  },
  {
   "cell_type": "code",
   "execution_count": null,
   "id": "cf3c64f9",
   "metadata": {},
   "outputs": [],
   "source": [
    "# Ваш код здесь"
   ]
  },
  {
   "cell_type": "markdown",
   "id": "b379e8ec",
   "metadata": {},
   "source": [
    "#### Задание 2: Найдите количество пробелов в строке"
   ]
  },
  {
   "cell_type": "code",
   "execution_count": null,
   "id": "fa4fe2b7",
   "metadata": {},
   "outputs": [],
   "source": [
    "# Ваш код здесь"
   ]
  },
  {
   "cell_type": "markdown",
   "id": "4d7ac7f5",
   "metadata": {},
   "source": [
    "#### Задание 3: Выведите строку в обратном порядке"
   ]
  },
  {
   "cell_type": "code",
   "execution_count": null,
   "id": "2cfd60d8",
   "metadata": {},
   "outputs": [],
   "source": [
    "# Ваш код здесь"
   ]
  },
  {
   "cell_type": "markdown",
   "id": "52ac7042",
   "metadata": {},
   "source": [
    "#### Задание 4: Выведите всю строку, кроме первых двух символов"
   ]
  },
  {
   "cell_type": "code",
   "execution_count": null,
   "id": "2350b078",
   "metadata": {},
   "outputs": [],
   "source": [
    "# Ваш код здесь"
   ]
  },
  {
   "cell_type": "markdown",
   "id": "684b8a74",
   "metadata": {},
   "source": [
    "#### Задание 5: Выведите предпоследний символ этой строки"
   ]
  },
  {
   "cell_type": "code",
   "execution_count": null,
   "id": "68d09340",
   "metadata": {},
   "outputs": [],
   "source": [
    "# Ваш код здесь"
   ]
  },
  {
   "cell_type": "markdown",
   "id": "e9140162",
   "metadata": {},
   "source": [
    "#### Задание 6: Найдите количество слов в строке (слово это последовательность непробельных символов)"
   ]
  },
  {
   "cell_type": "code",
   "execution_count": null,
   "id": "a1763ebc",
   "metadata": {},
   "outputs": [],
   "source": [
    "# Ваш код здесь"
   ]
  },
  {
   "cell_type": "markdown",
   "id": "b0ed50bb",
   "metadata": {},
   "source": [
    "#### Задание 7: Разделите строку на части используя пробел как разделитель и сохраните результат в списке slst"
   ]
  },
  {
   "cell_type": "code",
   "execution_count": null,
   "id": "427ed691",
   "metadata": {},
   "outputs": [],
   "source": [
    "# Ваш код здесь"
   ]
  },
  {
   "cell_type": "markdown",
   "id": "5a82cfcc",
   "metadata": {},
   "source": [
    "#### Задание 8: Пользователь вводит с клавиатуры символ. Его нужно сохранить в переменной С: Встречается ли этот символ в строке"
   ]
  },
  {
   "cell_type": "code",
   "execution_count": null,
   "id": "4cd78a6f",
   "metadata": {},
   "outputs": [],
   "source": [
    "# Ваш код здесь"
   ]
  },
  {
   "cell_type": "markdown",
   "id": "1ae7012c",
   "metadata": {},
   "source": [
    "#### Задание 9: Найдите количество символов . в строке"
   ]
  },
  {
   "cell_type": "code",
   "execution_count": null,
   "id": "c6ff349f",
   "metadata": {},
   "outputs": [],
   "source": [
    "# Ваш код здесь"
   ]
  },
  {
   "cell_type": "markdown",
   "id": "cb21eef4",
   "metadata": {},
   "source": [
    "#### Задание 10: Сформируйте новую строку, в которую поместите все гласные буквы из исходной строки"
   ]
  },
  {
   "cell_type": "code",
   "execution_count": null,
   "id": "de235ec7",
   "metadata": {},
   "outputs": [],
   "source": [
    "# Ваш код здесь"
   ]
  }
 ],
 "metadata": {},
 "nbformat": 4,
 "nbformat_minor": 5
}
