{
 "cells": [
  {
   "cell_type": "markdown",
   "id": "bb0b39e6",
   "metadata": {},
   "source": [
    "# A - Задача на вычисление\n",
    "\n",
    "В общежитии института в каждой комнате можно поселить четырех человек. Какое наименьшее количество комнат необходимо для поселения 83 иногородних студентов?"
   ]
  },
  {
   "cell_type": "markdown",
   "id": "62e86502",
   "metadata": {},
   "source": [
    "## Задание\n",
    "\n",
    "Напишите программу на языке Python для решения задачи с использованием переменных."
   ]
  },
  {
   "cell_type": "code",
   "execution_count": null,
   "id": "977e7c60",
   "metadata": {},
   "outputs": [],
   "source": [
    "# Ваш код здесь\n",
    "# 1. Входные данные. Здесь нужно определить переменные для хранения входных данных и присвоить им значения.\n",
    "\n",
    "# 2. Обработка данных. Здесь нужно вычислить искомое значение и сохранить его в переменной.\n",
    "\n",
    "# 3. Вывод результатов. Здесь нужно вывести вычисленное значение на экран.\n"
   ]
  },
  {
   "cell_type": "markdown",
   "id": "6b903c50",
   "metadata": {},
   "source": [
    "# B - Задача на ввод и вывод\n",
    "\n",
    "Для покраски 1 м2 потолка требуется Xг краски. Краска продается в банках по Yкг. Сколько банок краски нужно купить для покраски потолка площадью 50 м2?"
   ]
  },
  {
   "cell_type": "markdown",
   "id": "db9d60e4",
   "metadata": {},
   "source": [
    "## Задание\n",
    "\n",
    "Напишите программу на языке Python для решения задачи с использованием переменных."
   ]
  },
  {
   "cell_type": "code",
   "execution_count": null,
   "id": "d477ee89",
   "metadata": {},
   "outputs": [],
   "source": [
    "# Ваш код здесь\n",
    "# 1. Входные данные. Здесь нужно определить переменные для хранения входных данных и ввести значения с клавиатуры.\n",
    "\n",
    "# 2. Обработка данных. Здесь нужно вычислить искомое значение и сохранить его в переменной.\n",
    "\n",
    "# 3. Вывод результатов. Здесь нужно вывести вычисленное значение на экран.\n"
   ]
  },
  {
   "cell_type": "markdown",
   "id": "74036db6",
   "metadata": {},
   "source": [
    "# C - Задача про Давида\n",
    "\n",
    "Давид живет в разных странах по временам года. Весной он живет в Германии, летом - в Щвейцарии, осенью - в Австрии, зимой - в Нидерландах."
   ]
  },
  {
   "cell_type": "markdown",
   "id": "23cccee4",
   "metadata": {},
   "source": [
    "## Задание\n",
    "\n",
    "Напишите программу на языке Python, которая по введенному времени года выдаст страну для проживания Давида."
   ]
  },
  {
   "cell_type": "code",
   "execution_count": null,
   "id": "f32767ea",
   "metadata": {},
   "outputs": [],
   "source": [
    "# Ваш код здесь\n",
    "# 1. Входные данные. Здесь нужно определить переменные для хранения входных данных и ввести значения с клавиатуры.\n",
    "\n",
    "# 2. Обработка данных. Здесь нужно вычислить искомое значение и сохранить его в переменной.\n",
    "\n",
    "# 3. Вывод результатов. Здесь нужно вывести вычисленное значение на экран.\n"
   ]
  },
  {
   "cell_type": "markdown",
   "id": "97038bac",
   "metadata": {},
   "source": [
    "# D - Задача на списки\n",
    "\n",
    "Нужно сформировать список  lst из 20 элементов случайным образом. Элементы списка должны быть в диапазоне [-50;50]. Выведите элементы списка на экран."
   ]
  },
  {
   "cell_type": "code",
   "execution_count": null,
   "id": "789b0ce5",
   "metadata": {},
   "outputs": [],
   "source": [
    "# Ваш код здесь"
   ]
  },
  {
   "cell_type": "markdown",
   "id": "57cc3daa",
   "metadata": {},
   "source": [
    "#### Задание 1: Найдите длину списка"
   ]
  },
  {
   "cell_type": "code",
   "execution_count": null,
   "id": "35ab362e",
   "metadata": {},
   "outputs": [],
   "source": [
    "# Ваш код здесь"
   ]
  },
  {
   "cell_type": "markdown",
   "id": "153cc078",
   "metadata": {},
   "source": [
    "#### Задание 2: Найдите максимальный и минимальный элемент списка"
   ]
  },
  {
   "cell_type": "code",
   "execution_count": null,
   "id": "e78e5c76",
   "metadata": {},
   "outputs": [],
   "source": [
    "# Ваш код здесь"
   ]
  },
  {
   "cell_type": "markdown",
   "id": "4e5545dd",
   "metadata": {},
   "source": [
    "#### Задание 3: Выведите список в обратном порядке"
   ]
  },
  {
   "cell_type": "code",
   "execution_count": null,
   "id": "a2bb9935",
   "metadata": {},
   "outputs": [],
   "source": [
    "# Ваш код здесь"
   ]
  },
  {
   "cell_type": "markdown",
   "id": "c219beb8",
   "metadata": {},
   "source": [
    "#### Задание 4: Создайте копию списка в переменной mlst и отсортируйте список mlst по возрастанию"
   ]
  },
  {
   "cell_type": "code",
   "execution_count": null,
   "id": "f3adcac2",
   "metadata": {},
   "outputs": [],
   "source": [
    "# Ваш код здесь"
   ]
  },
  {
   "cell_type": "markdown",
   "id": "7450da15",
   "metadata": {},
   "source": [
    "#### Задание 5: Дано число K=9: Найдите сумму K последних элементов списка"
   ]
  },
  {
   "cell_type": "code",
   "execution_count": null,
   "id": "04a6cee1",
   "metadata": {},
   "outputs": [],
   "source": [
    "# Ваш код здесь"
   ]
  },
  {
   "cell_type": "markdown",
   "id": "98557848",
   "metadata": {},
   "source": [
    "#### Задание 6: Выведите элементы списка, которые заканчиваются на 1"
   ]
  },
  {
   "cell_type": "code",
   "execution_count": null,
   "id": "128bb5ac",
   "metadata": {},
   "outputs": [],
   "source": [
    "# Ваш код здесь"
   ]
  },
  {
   "cell_type": "markdown",
   "id": "a4b72008",
   "metadata": {},
   "source": [
    "#### Задание 7: Найдите произведение элементов списка, которые больше среднего арифметического"
   ]
  },
  {
   "cell_type": "code",
   "execution_count": null,
   "id": "c25d2a9b",
   "metadata": {},
   "outputs": [],
   "source": [
    "# Ваш код здесь"
   ]
  },
  {
   "cell_type": "markdown",
   "id": "bf43a2a7",
   "metadata": {},
   "source": [
    "# E - Задача на строки\n",
    "\n",
    "Пользователь вводит с клавиатуры строку. "
   ]
  },
  {
   "cell_type": "code",
   "execution_count": null,
   "id": "397e51f4",
   "metadata": {},
   "outputs": [],
   "source": [
    "# Ваш код здесь"
   ]
  },
  {
   "cell_type": "markdown",
   "id": "f54cd4c3",
   "metadata": {},
   "source": [
    "#### Задание 1: Найдите длину строки"
   ]
  },
  {
   "cell_type": "code",
   "execution_count": null,
   "id": "275dc988",
   "metadata": {},
   "outputs": [],
   "source": [
    "# Ваш код здесь"
   ]
  },
  {
   "cell_type": "markdown",
   "id": "739e82fc",
   "metadata": {},
   "source": [
    "#### Задание 2: Найдите количество пробелов в строке"
   ]
  },
  {
   "cell_type": "code",
   "execution_count": null,
   "id": "c81014bd",
   "metadata": {},
   "outputs": [],
   "source": [
    "# Ваш код здесь"
   ]
  },
  {
   "cell_type": "markdown",
   "id": "08be7b04",
   "metadata": {},
   "source": [
    "#### Задание 3: Выведите строку в обратном порядке"
   ]
  },
  {
   "cell_type": "code",
   "execution_count": null,
   "id": "4efd726d",
   "metadata": {},
   "outputs": [],
   "source": [
    "# Ваш код здесь"
   ]
  },
  {
   "cell_type": "markdown",
   "id": "b3f64853",
   "metadata": {},
   "source": [
    "#### Задание 4: Выведите всю строку, кроме первых двух символов"
   ]
  },
  {
   "cell_type": "code",
   "execution_count": null,
   "id": "a61d2700",
   "metadata": {},
   "outputs": [],
   "source": [
    "# Ваш код здесь"
   ]
  },
  {
   "cell_type": "markdown",
   "id": "243449a6",
   "metadata": {},
   "source": [
    "#### Задание 5: Выведите предпоследний символ этой строки"
   ]
  },
  {
   "cell_type": "code",
   "execution_count": null,
   "id": "87bb72f5",
   "metadata": {},
   "outputs": [],
   "source": [
    "# Ваш код здесь"
   ]
  },
  {
   "cell_type": "markdown",
   "id": "b062f9e9",
   "metadata": {},
   "source": [
    "#### Задание 6: Найдите количество слов в строке (слово это последовательность непробельных символов)"
   ]
  },
  {
   "cell_type": "code",
   "execution_count": null,
   "id": "094b390a",
   "metadata": {},
   "outputs": [],
   "source": [
    "# Ваш код здесь"
   ]
  },
  {
   "cell_type": "markdown",
   "id": "419fd4f8",
   "metadata": {},
   "source": [
    "#### Задание 7: Разделите строку на части используя пробел как разделитель и сохраните результат в списке slst"
   ]
  },
  {
   "cell_type": "code",
   "execution_count": null,
   "id": "f23d4b9e",
   "metadata": {},
   "outputs": [],
   "source": [
    "# Ваш код здесь"
   ]
  },
  {
   "cell_type": "markdown",
   "id": "9046d6c8",
   "metadata": {},
   "source": [
    "#### Задание 8: Пользователь вводит с клавиатуры символ. Его нужно сохранить в переменной С: Выведите все символы строки кроме этого символа"
   ]
  },
  {
   "cell_type": "code",
   "execution_count": null,
   "id": "be83cbfb",
   "metadata": {},
   "outputs": [],
   "source": [
    "# Ваш код здесь"
   ]
  },
  {
   "cell_type": "markdown",
   "id": "3be9abb8",
   "metadata": {},
   "source": [
    "#### Задание 9: Найдите количество символов , в строке"
   ]
  },
  {
   "cell_type": "code",
   "execution_count": null,
   "id": "4fdf5cd3",
   "metadata": {},
   "outputs": [],
   "source": [
    "# Ваш код здесь"
   ]
  },
  {
   "cell_type": "markdown",
   "id": "f7f2500a",
   "metadata": {},
   "source": [
    "#### Задание 10: Найдите количество слов в строке, которые начинаются на a"
   ]
  },
  {
   "cell_type": "code",
   "execution_count": null,
   "id": "f6634f3d",
   "metadata": {},
   "outputs": [],
   "source": [
    "# Ваш код здесь"
   ]
  }
 ],
 "metadata": {},
 "nbformat": 4,
 "nbformat_minor": 5
}
